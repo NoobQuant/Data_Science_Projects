{
 "metadata": {
  "language_info": {
   "codemirror_mode": {
    "name": "ipython",
    "version": 3
   },
   "file_extension": ".py",
   "mimetype": "text/x-python",
   "name": "python",
   "nbconvert_exporter": "python",
   "pygments_lexer": "ipython3",
   "version": 3
  },
  "orig_nbformat": 2
 },
 "nbformat": 4,
 "nbformat_minor": 2,
 "cells": [
  {
   "cell_type": "markdown",
   "metadata": {},
   "source": [
    "# Understanding SVAR contemporaneous causality via Slutzky-Fischer paradigm"
   ]
  },
  {
   "cell_type": "markdown",
   "metadata": {},
   "source": [
    "Structural vector autoregressive models, as typically used in economics, can be understood as dynamic structural equation models (DSEMs) in which restrictions have been imposed on the impact multiplier matrix and the lagged values ae left unrestricted (Killian & Lütkepohl 2017, p.177). This means that causal analysis in SVAR models requires making identifying assumptions only on contemporaneous causal relations. Justification for this can be traced back to the Slutsky-Fischer paradigm of business cycles, where fluctuations in macroeconomic variables are understood to be driven by sequences of \"structural shocks\", which represent news, changes in preferences, exogenous events etc. that throw economy off of its stable long-run path.\n",
    "\n",
    "Slutzky-Fisher paradigm states (Stock & Watson 2018, p.7) that $n \\times 1$ vector if observed (stationary) macroeconomic variables $Y_t$ can be written in terms of current and past values of $m \\times 1$ vector of structural shocks (including measurement errors) $\\epsilon_T$ , that is\n",
    "\n",
    "$$Y_t = \\sum_{h=0}^{H} \\Theta_h (L^h) \\epsilon_t$$\n",
    "\n",
    "where $H$ may be $\\infty$ and individual shocks in $\\epsilon_t$ are mutually uncorrelated. Later in 1938 Herman Wold established a link between above moving average formulation and Udny Yule's autoregressive formulation, providing basis for the main tradition in time-series modelling (Barnett, 2006). This work also saw the birth of *Wold's theorem*, proving that a stationary series can indeed be expressed as a sum of a deterministic component and a stochastic component which can itself be expressed as an infinite moving average. Wold's proof guarantees the existence of such representation, but the interpretation of the nature of shocks driving the variables is another question: can some real, causal interpretation be given to $\\epsilon_t$ or are they just some artificial moving-average terms? Barnett (2006) argues that while this is still debated issue, Slutzky himself favored the 'real' interpretation.\n",
    "\n",
    "If one is willing to accept the real, or structural, interpretation of $epsilon_t$, the consequences are rather remarkable: observed macroeconomic variables $Y_t$ are merely accounting residuals, borne by structural, possibly very abstract\"shocks\" driving the economy (e.g. \"demand shock affected GDP\"). Sometimes the shocks could also have an observed interpreration (\"shock to policy rate affected house prices\"). If we could measure all the structural shock series, causal inference on measured macroeconomic variables would be simple: we could just include the shocks as observables in our models and estimate what effect they have on observed variables. The obvious problem is that typically the driving forces (shocks) are too abstract to be measured (supply, demand, expectations, preferences etc.) yielding a violation of *causal sufficiency*; we cannot measure all common causes affecting the system we are interested in. Due to this econometric literature has come up with various ways in attempt to identify the exogenous shock series driving the economy.\n",
    "\n",
    "SVAR models, as envisaged by Sims (1980) and refinded afterwards by many authors, tap into Slutsky-Fischer paradigm by combining contemporanaoues (time $t$) identification of underlying shocks with purely statistical/associational vector autoregression model (VAR) to model lag structure between variables (which is of lesser interest from causal inference point of view). In other words, SVAR models assume a) no causal mechanisms between model system's observed variable lag structure and b) no contemporaneous causal mechanisms between model system's observed variables but rather between driving shocks and observed variables (unless innovations in observed variables as such are among the driving forces $\\epsilon_t$, in which case contemporaneous causality can be interpreted to exist between observables; this happens only in special cases (Killian & Lütkepohl 2017, p.112)). \n",
    "\n",
    "Causal investigations in SVARs are restricted to reponses in observable variables to time $t$ structural shocks, or so-called *impulse responses*. As put by Stock & Watson (2018), structural shocks are to macroeconomists what random treatment is to microeconomists. When a shock hits the economy, it may have an immediate impact on on variables in the system, and this effect is propagated through the lag structure to future values of observables. Sometimes this propagation of treatment (shock) is referred to as *treatment path* (Ghannem & Smith 2018, p.8), but I would refrain such use at there is a danger of confusing this to assigning treatment (shock) in multiple consecutive time periods, something which SVARs as usually presented cannot direcly take into account. Impulse responses answer the following question: what is the average effect of given shock at time $t$ on future values of observables. Notice that we are looking at effects of one-off treatment.\n",
    "\n",
    "Example of special case where shocks are interpretable in terms of observables: identification via Cholesky decomposition. Write rest!\n",
    "\n",
    "Ideas for rest of article:\n",
    " - What about giving causal interpretation to the lag structure as well? Wouldn't this be along the lines of DSEM? It seems to be [Pearl's view](http://causality.cs.ucla.edu/blog/index.php/2020/01/29/on-imbens-comparison-of-two-approaches-to-empirical-economics/) that meaningful SCMs can be written in terms of observables. Sims criticised DSEMs for good reason, but nowadays we have e.g. data-driven methods for identifying them, see the literature on causal discovery in time series context.\n",
    " - Killian and Lütkepohl (2017, p.239) critize SCM approach (\"graph theoretic approach\", which I think is a poor term) explicitly for not following Slutzky-Fisher paradigm: \"In fact, it is not clear how to interpret statements about one variable causing another from an economic point of view, because structural shocks in simulataneous equations models in general are not associated with specific observables\".\n",
    " - If we don't want to abandon Slutzky-Fisher paradigm completely: would there be equivalent SCMs in terms of observables only with those coming out of Slutzky-Fisher paradigm?"
   ]
  },
  {
   "cell_type": "markdown",
   "metadata": {},
   "source": [
    "References\n",
    " - Barnett (2006): Chancing an interpretation: Slutsky’s random cycles revisited\n",
    " - Ghannem & Smith (2018): Causality in Structural Vector Autoregressions: Science or Sorcery?\n",
    " - Killian & Lütkepohl (2017): Structural vector autoregressive analysis\n",
    " - Stock & Watson (2018): Identification and estimation of dynamic causal effects in macroeconomics using external instruments\n",
    " - Sims (1980): Macroeconomics and reality"
   ]
  }
 ]
}