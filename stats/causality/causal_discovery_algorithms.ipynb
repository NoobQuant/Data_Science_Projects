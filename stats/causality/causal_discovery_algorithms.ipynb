{
 "metadata": {
  "language_info": {
   "codemirror_mode": {
    "name": "ipython",
    "version": 3
   },
   "file_extension": ".py",
   "mimetype": "text/x-python",
   "name": "python",
   "nbconvert_exporter": "python",
   "pygments_lexer": "ipython3",
   "version": 3
  },
  "orig_nbformat": 2
 },
 "nbformat": 4,
 "nbformat_minor": 2,
 "cells": [
  {
   "source": [
    "Notebook to list causal discovery algorithms\n",
    "\n",
    "References:\n",
    " - Colombo & Maathuis (2014): Order-independent constraint-based causal structure learning\n",
    " - Entner & Hoyer (2010): On causal discovery from time series data using FCI\n",
    " - Runge at al (2019): Detecting and quantifying causal assoctiations in large nonlinear time series datasets\n",
    " - Runge (2020): Discovering contemporaneous and lagged causal relations in autocorrelated nonlinear time series datasets"
   ],
   "cell_type": "markdown",
   "metadata": {}
  },
  {
   "source": [
    "## PC algorithm"
   ],
   "cell_type": "markdown",
   "metadata": {}
  },
  {
   "source": [
    "## PC stable\n",
    "\n",
    "Colombo & Maathuis (2014)"
   ],
   "cell_type": "markdown",
   "metadata": {}
  },
  {
   "source": [
    "## PC algorithm for time series\n",
    "\n",
    "Runge (2019) derives a version of PC suitable for time-series"
   ],
   "cell_type": "markdown",
   "metadata": {}
  },
  {
   "source": [
    "## FCI algorithm"
   ],
   "cell_type": "markdown",
   "metadata": {}
  },
  {
   "source": [
    "## FCI for time series\n",
    "\n",
    "Entner & Hoyer (2010)"
   ],
   "cell_type": "markdown",
   "metadata": {}
  },
  {
   "source": [
    "## PMCI algorithm\n",
    "\n",
    "Runge (2019)"
   ],
   "cell_type": "markdown",
   "metadata": {}
  },
  {
   "source": [
    "## PMCI+\n",
    "\n",
    "Runge (2020)"
   ],
   "cell_type": "markdown",
   "metadata": {}
  },
  {
   "cell_type": "code",
   "execution_count": null,
   "metadata": {},
   "outputs": [],
   "source": []
  }
 ]
}