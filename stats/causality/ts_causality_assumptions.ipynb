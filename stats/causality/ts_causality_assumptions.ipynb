{
 "metadata": {
  "language_info": {
   "codemirror_mode": {
    "name": "ipython",
    "version": 3
   },
   "file_extension": ".py",
   "mimetype": "text/x-python",
   "name": "python",
   "nbconvert_exporter": "python",
   "pygments_lexer": "ipython3",
   "version": 3
  },
  "orig_nbformat": 2
 },
 "nbformat": 4,
 "nbformat_minor": 2,
 "cells": [
  {
   "cell_type": "markdown",
   "metadata": {},
   "source": [
    "Source: [This Tigramite notebook](https://github.com/jakobrunge/tigramite/blob/master/tutorials/tigramite_tutorial_assumptions.ipynb).\n",
    "\n",
    "Supoose we are interested in identifying causal relations in time series dataset with minimal a priori assumptions. For this there are multiple *causal discovery algorithms* in our disposal. Each algorithm requires a **diffenring set of assumptions**. In this notebook we list main assumptions and map them to algorighms.\n",
    "\n",
    "Possbile assumptions include are:\n",
    " - Minimality\n",
    " - Faithfulness (aka stabeleness): If two variables conditionally independent $\\rightarrow$ no causal link between them\n",
    " - Causal Markov condition: If two variables are not causally connected in (assumed) causal graph $\\rightarrow$ variables are (conditionally) independent\n",
    " - Causal sufficiency: We have measured all common causes. \n",
    " - No contemporaneous causal effects"
   ]
  },
  {
   "cell_type": "markdown",
   "metadata": {},
   "source": [
    "## Faitfulness\n",
    "\n",
    "Pearl 2009 Def 2.4.1 p. 48): conditional independencies (stastical measure) in data do not arise by coincidence, but rather due to causal structure. That is, if two variables are (conditionally) independent we assume there are no causal links between them"
   ]
  },
  {
   "cell_type": "code",
   "execution_count": null,
   "metadata": {},
   "outputs": [],
   "source": []
  }
 ]
}