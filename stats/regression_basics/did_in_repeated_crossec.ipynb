{
 "cells": [
  {
   "cell_type": "markdown",
   "id": "343e529a-2046-4564-9f1b-0c8e8913abbc",
   "metadata": {},
   "source": [
    "Notebook on difference-in-difference estimation with repeated cross section data."
   ]
  },
  {
   "cell_type": "code",
   "execution_count": 1,
   "id": "2c4a57c6-5ce3-4c11-ad3e-9fc19cb0a63c",
   "metadata": {},
   "outputs": [],
   "source": [
    "import numpy as np \n",
    "import pandas as pd\n",
    "import matplotlib.pyplot as plt\n",
    "import statsmodels.formula.api as smf\n",
    "np.random.seed(1)"
   ]
  },
  {
   "cell_type": "markdown",
   "id": "5480d5ff-0fd3-464a-9ca4-a40278f21463",
   "metadata": {},
   "source": [
    "## Simulate data"
   ]
  },
  {
   "cell_type": "code",
   "execution_count": 2,
   "id": "c228e50a-4683-438e-9e20-51056f6c29db",
   "metadata": {},
   "outputs": [],
   "source": [
    "treatment_size = -2\n",
    "for t in range(6):\n",
    "    \n",
    "    common_random_trend_deviation = np.abs(np.random.random())\n",
    "    \n",
    "    # Control group\n",
    "    df_t = pd.DataFrame(np.random.random(size=300), columns=[\"var1\"]) + t * common_random_trend_deviation\n",
    "    df_t[\"t\"] = t\n",
    "    if t == 0:\n",
    "        control = df_t\n",
    "    else:\n",
    "        control = control.append(df_t, ignore_index=True)\n",
    "        \n",
    "    # Treatment group\n",
    "    df_t = pd.DataFrame(np.random.random(size=300), columns=[\"var1\"]) + t * common_random_trend_deviation\n",
    "    df_t[\"t\"] = t\n",
    "    if t == 0:\n",
    "        treatment_cf = df_t\n",
    "    else:\n",
    "        treatment_cf = treatment_cf.append(df_t, ignore_index=True)\n",
    "\n",
    "treatment_cf[\"time_group\"] = np.where(treatment_cf[\"t\"] > 2, \"after\", \"before\")\n",
    "control[\"time_group\"] = np.where(control[\"t\"] > 2, \"after\", \"before\")\n",
    "treatment_cf[\"tc_group\"] = \"treatment\"\n",
    "control[\"tc_group\"] = \"control\"\n",
    "\n",
    "treatment = treatment_cf.copy()\n",
    "treatment.loc[treatment[\"time_group\"] == \"after\", \"var1\"] = treatment.loc[treatment[\"time_group\"] == \"after\", \"var1\"] + treatment_size"
   ]
  },
  {
   "cell_type": "code",
   "execution_count": 3,
   "id": "e9589a84-264d-42b2-bab8-6008c1ccfacb",
   "metadata": {},
   "outputs": [],
   "source": [
    "means = {}\n",
    "means[\"control_before\"] = control.query(\"time_group == 'before'\")[\"var1\"].mean()\n",
    "means[\"control_after\"] = control.query(\"time_group == 'after'\")[\"var1\"].mean()\n",
    "means[\"treatment_before\"] = treatment.query(\"time_group == 'before'\")[\"var1\"].mean()\n",
    "means[\"treatment_after\"] = treatment.query(\"time_group == 'after'\")[\"var1\"].mean()\n",
    "means[\"treatment_cf_before\"] = treatment_cf.query(\"time_group == 'before'\")[\"var1\"].mean()\n",
    "means[\"treatment_cf_after\"] = treatment_cf.query(\"time_group == 'after'\")[\"var1\"].mean()\n",
    "for t in range(6):\n",
    "    means[\"control_t\" + str(t)] = control.query(\"t == {}\".format(t))[\"var1\"].mean()\n",
    "    means[\"treatment_t\" + str(t)] = treatment.query(\"t == {}\".format(t))[\"var1\"].mean()\n",
    "    means[\"treatment_cf_t\" + str(t)] = treatment_cf.query(\"t == {}\".format(t))[\"var1\"].mean()"
   ]
  },
  {
   "cell_type": "markdown",
   "id": "b10ed3c6-32df-43f3-8f2b-dcb5b1024276",
   "metadata": {},
   "source": [
    "## Plot data"
   ]
  },
  {
   "cell_type": "code",
   "execution_count": 4,
   "id": "c2b0b2a2-0080-435a-aaed-5ee9e357a5ff",
   "metadata": {},
   "outputs": [],
   "source": [
    "tiime_fe_mean_line_pos = [(0, 0.1), (0.175, 0.275), (0.375, 0.475), (0.55, 0.65), (0.75, 0.825), (0.90, 1)]\n",
    "def format_ax(ax):\n",
    "    ax.set_xlabel(None)\n",
    "    ax.set_ylabel(None)\n",
    "    ax.axvline(2.5, linestyle=\"--\", c=\"red\")\n",
    "    ax.set_ylim(-2.5, 6)"
   ]
  },
  {
   "cell_type": "code",
   "execution_count": 5,
   "id": "36e3bdd0-60a1-4264-b581-7bc375bd9cfb",
   "metadata": {},
   "outputs": [
    {
     "name": "stdout",
     "output_type": "stream",
     "text": [
      "Control before mean 1.410\n",
      "Control after mean 3.068\n",
      "Treament before mean 1.413\n",
      "Treament after mean 1.065\n",
      "Treatment counterfactual after mean 3.065\n",
      "control t_0 mean 0.510\n",
      "control t_1 mean 1.304\n",
      "control t_2 mean 2.417\n",
      "control t_3 mean 3.364\n",
      "control t_4 mean 2.551\n",
      "control t_5 mean 3.290\n",
      "treatment t_0 mean 0.497\n",
      "treatment t_1 mean 1.298\n",
      "treatment t_2 mean 2.445\n",
      "treatment t_3 mean 1.354\n",
      "treatment t_4 mean 0.565\n",
      "treatment t_5 mean 1.275\n",
      "treatment_cf t_0 mean 0.497\n",
      "treatment_cf t_1 mean 1.298\n",
      "treatment_cf t_2 mean 2.445\n",
      "treatment_cf t_3 mean 3.354\n",
      "treatment_cf t_4 mean 2.565\n",
      "treatment_cf t_5 mean 3.275\n"
     ]
    },
    {
     "data": {
      "image/png": "[encoded data removed]",
      "text/plain": [
       "<Figure size 720x432 with 2 Axes>"
      ]
     },
     "metadata": {
      "needs_background": "light"
     },
     "output_type": "display_data"
    }
   ],
   "source": [
    "fig = plt.figure(figsize=(10, 6))\n",
    "\n",
    "ax = fig.add_subplot(2, 1, 1)\n",
    "control.plot.scatter(x=\"t\", y=\"var1\", ax=ax, s=1)\n",
    "ax.axhline(y=means[\"control_before\"], xmin=0, xmax=0.5, linestyle=\"--\")\n",
    "ax.axhline(y=means[\"control_after\"], xmin=0.5, xmax=1.0, linestyle=\"--\")\n",
    "for t, xminmax in zip(range(6), tiime_fe_mean_line_pos):\n",
    "    ax.axhline(y=means[\"control_t\" + str(t)], xmin=xminmax[0], xmax=xminmax[1], linestyle=\"--\")\n",
    "\n",
    "format_ax(ax)\n",
    "ax.set_title(\"Control\")\n",
    "\n",
    "ax = fig.add_subplot(2, 1, 2)\n",
    "treatment.plot.scatter(x=\"t\", y=\"var1\", ax=ax, s=1)\n",
    "treatment_cf.query(\"time_group == 'after'\").plot.scatter(x=\"t\", y=\"var1\", ax=ax, color=\"orange\", s=1)\n",
    "ax.axhline(y=means[\"treatment_before\"], xmin=0, xmax=0.5, linestyle=\"--\")\n",
    "ax.axhline(y=means[\"treatment_cf_after\"], xmin=0.5, xmax=1.0, linestyle=\"--\", color=\"orange\")\n",
    "ax.axhline(y=means[\"treatment_after\"], xmin=0.5, xmax=1.0, linestyle=\"--\")\n",
    "for t, xminmax in zip(range(6), tiime_fe_mean_line_pos):\n",
    "    ax.axhline(y=means[\"treatment_t\" + str(t)], xmin=xminmax[0], xmax=xminmax[1], linestyle=\"--\")\n",
    "    if t > 2:\n",
    "        ax.axhline(y=means[\"treatment_cf_t\" + str(t)], xmin=xminmax[0], xmax=xminmax[1], linestyle=\"--\", color=\"orange\")\n",
    "format_ax(ax)\n",
    "ax.set_title(\"Treatment\")\n",
    "\n",
    "fig.tight_layout()\n",
    "\n",
    "print(\"Control before mean {:.3f}\".format(means[\"control_before\"]))\n",
    "print(\"Control after mean {:.3f}\".format(means[\"control_after\"]))\n",
    "print(\"Treament before mean {:.3f}\".format(means[\"treatment_before\"]))\n",
    "print(\"Treament after mean {:.3f}\".format(means[\"treatment_after\"]))\n",
    "print(\"Treatment counterfactual after mean {:.3f}\".format(means[\"treatment_cf_after\"]))\n",
    "\n",
    "for el in [\"control\", \"treatment\", \"treatment_cf\"]:\n",
    "    for t in range(6):\n",
    "        print(\"{} t_{} mean {:.3f}\".format(\n",
    "            el,\n",
    "            t, \n",
    "            means[el + \"_t\" + str(t)],\n",
    "        ))"
   ]
  },
  {
   "cell_type": "code",
   "execution_count": 6,
   "id": "c18605cd-4a0a-4741-9925-59c987879bd2",
   "metadata": {},
   "outputs": [
    {
     "name": "stdout",
     "output_type": "stream",
     "text": [
      "Control before mean 1.410\n",
      "Control after mean 3.068\n",
      "Treament before mean 1.413\n",
      "Treament after mean 1.065\n",
      "Treatment estimated counterfactual after mean 3.071\n",
      "Did-estimate -2.006\n",
      "control t_0 mean 0.510\n",
      "control t_1 mean 1.304\n",
      "control t_2 mean 2.417\n",
      "control t_3 mean 3.364\n",
      "control t_4 mean 2.551\n",
      "control t_5 mean 3.290\n",
      "treatment t_0 mean 0.497\n",
      "treatment t_1 mean 1.298\n",
      "treatment t_2 mean 2.445\n",
      "treatment t_3 mean 1.354\n",
      "treatment t_4 mean 0.565\n",
      "treatment t_5 mean 1.275\n"
     ]
    },
    {
     "data": {
      "image/png": "[encoded data removed]",
      "text/plain": [
       "<Figure size 720x432 with 2 Axes>"
      ]
     },
     "metadata": {
      "needs_background": "light"
     },
     "output_type": "display_data"
    }
   ],
   "source": [
    "fig = plt.figure(figsize=(10, 6))\n",
    "\n",
    "ax = fig.add_subplot(2, 1, 1)\n",
    "control.plot.scatter(x=\"t\", y=\"var1\", ax=ax, s=1)\n",
    "ax.axhline(y=means[\"control_before\"], xmin=0, xmax=0.5, linestyle=\"--\")\n",
    "ax.axhline(y=means[\"control_after\"], xmin=0.5, xmax=1.0, linestyle=\"--\")\n",
    "for t, xminmax in zip(range(6), tiime_fe_mean_line_pos):\n",
    "    ax.axhline(y=means[\"control_t\" + str(t)], xmin=xminmax[0], xmax=xminmax[1], linestyle=\"--\")\n",
    "\n",
    "format_ax(ax)\n",
    "ax.set_title(\"Control\")\n",
    "\n",
    "ax = fig.add_subplot(2, 1, 2)\n",
    "treatment.plot.scatter(x=\"t\", y=\"var1\", ax=ax, s=1)\n",
    "ax.axhline(y=means[\"treatment_before\"], xmin=0, xmax=0.5, linestyle=\"--\")\n",
    "ax.axhline(y=means[\"treatment_before\"] + (means[\"control_after\"] - means[\"control_before\"]), xmin=0.5, xmax=1.0, linestyle=\"--\", color=\"green\")\n",
    "ax.axhline(y=means[\"treatment_after\"], xmin=0.5, xmax=1.0, linestyle=\"--\")\n",
    "for t, xminmax in zip(range(6), tiime_fe_mean_line_pos):\n",
    "    ax.axhline(y=means[\"treatment_t\" + str(t)], xmin=xminmax[0], xmax=xminmax[1], linestyle=\"--\")\n",
    "\n",
    "format_ax(ax)\n",
    "ax.set_title(\"Treatment\")\n",
    "\n",
    "fig.tight_layout()\n",
    "\n",
    "print(\"Control before mean {:.3f}\".format(means[\"control_before\"]))\n",
    "print(\"Control after mean {:.3f}\".format(means[\"control_after\"]))\n",
    "print(\"Treament before mean {:.3f}\".format(means[\"treatment_before\"]))\n",
    "print(\"Treament after mean {:.3f}\".format(means[\"treatment_after\"]))\n",
    "print(\"Treatment estimated counterfactual after mean {:.3f}\".format(means[\"treatment_before\"] + (means[\"control_after\"] - means[\"control_before\"])))\n",
    "print(\"Did-estimate {:.3f}\".format(\n",
    "    (means[\"treatment_after\"] - means[\"treatment_before\"]) -     \n",
    "    (means[\"control_after\"] - means[\"control_before\"])\n",
    "))\n",
    "\n",
    "for el in [\"control\", \"treatment\"]:\n",
    "    for t in range(6):\n",
    "        print(\"{} t_{} mean {:.3f}\".format(\n",
    "            el,\n",
    "            t, \n",
    "            means[el + \"_t\" + str(t)],\n",
    "        ))"
   ]
  },
  {
   "cell_type": "markdown",
   "id": "6ef1a7a1-3604-4187-b7d2-9c56cfbcb40f",
   "metadata": {},
   "source": [
    "## Regression frame"
   ]
  },
  {
   "cell_type": "code",
   "execution_count": 7,
   "id": "b1b4e6e7-3b02-4b00-bdfb-08cc55324ae7",
   "metadata": {},
   "outputs": [
    {
     "data": {
      "text/html": [
       "<div>\n",
       "<style scoped>\n",
       "    .dataframe tbody tr th:only-of-type {\n",
       "        vertical-align: middle;\n",
       "    }\n",
       "\n",
       "    .dataframe tbody tr th {\n",
       "        vertical-align: top;\n",
       "    }\n",
       "\n",
       "    .dataframe thead th {\n",
       "        text-align: right;\n",
       "    }\n",
       "</style>\n",
       "<table border=\"1\" class=\"dataframe\">\n",
       "  <thead>\n",
       "    <tr style=\"text-align: right;\">\n",
       "      <th></th>\n",
       "      <th>var1</th>\n",
       "      <th>t</th>\n",
       "      <th>time_group</th>\n",
       "      <th>tc_group</th>\n",
       "      <th>tc_groupxtime_group</th>\n",
       "    </tr>\n",
       "  </thead>\n",
       "  <tbody>\n",
       "    <tr>\n",
       "      <th>0</th>\n",
       "      <td>0.874962</td>\n",
       "      <td>0</td>\n",
       "      <td>0</td>\n",
       "      <td>1</td>\n",
       "      <td>0</td>\n",
       "    </tr>\n",
       "    <tr>\n",
       "      <th>1</th>\n",
       "      <td>0.688413</td>\n",
       "      <td>0</td>\n",
       "      <td>0</td>\n",
       "      <td>1</td>\n",
       "      <td>0</td>\n",
       "    </tr>\n",
       "  </tbody>\n",
       "</table>\n",
       "</div>"
      ],
      "text/plain": [
       "       var1  t  time_group  tc_group  tc_groupxtime_group\n",
       "0  0.874962  0           0         1                    0\n",
       "1  0.688413  0           0         1                    0"
      ]
     },
     "execution_count": 7,
     "metadata": {},
     "output_type": "execute_result"
    }
   ],
   "source": [
    "df = treatment.copy().append(control.copy(), ignore_index=True)\n",
    "df[\"time_group\"] = df[\"time_group\"].map({\"before\": 0, \"after\": 1})\n",
    "df[\"tc_group\"] = df[\"tc_group\"].map({\"control\": 0, \"treatment\": 1})\n",
    "df[\"tc_groupxtime_group\"] = df[\"time_group\"] * df[\"tc_group\"]\n",
    "df[\"t\"] = df[\"t\"].astype(str)\n",
    "df.head(2)"
   ]
  },
  {
   "cell_type": "markdown",
   "id": "c65c852a-d304-456d-b3e7-eb8a8b2a0cef",
   "metadata": {},
   "source": [
    "## DID regression"
   ]
  },
  {
   "cell_type": "code",
   "execution_count": 8,
   "id": "7e1aba89-c66b-4cc7-bd24-1858f862c0d6",
   "metadata": {},
   "outputs": [
    {
     "name": "stdout",
     "output_type": "stream",
     "text": [
      "                            OLS Regression Results                            \n",
      "==============================================================================\n",
      "Dep. Variable:                   var1   R-squared:                       0.569\n",
      "Model:                            OLS   Adj. R-squared:                  0.569\n",
      "Method:                 Least Squares   F-statistic:                     1584.\n",
      "Date:                Thu, 24 Mar 2022   Prob (F-statistic):               0.00\n",
      "Time:                        22:44:53   Log-Likelihood:                -3713.2\n",
      "No. Observations:                3600   AIC:                             7434.\n",
      "Df Residuals:                    3596   BIC:                             7459.\n",
      "Df Model:                           3                                         \n",
      "Covariance Type:            nonrobust                                         \n",
      "=======================================================================================\n",
      "                          coef    std err          t      P>|t|      [0.025      0.975]\n",
      "---------------------------------------------------------------------------------------\n",
      "Intercept               1.4103      0.023     62.298      0.000       1.366       1.455\n",
      "tc_group                0.0027      0.032      0.085      0.933      -0.060       0.065\n",
      "time_group              1.6579      0.032     51.786      0.000       1.595       1.721\n",
      "tc_groupxtime_group    -2.0062      0.045    -44.311      0.000      -2.095      -1.917\n",
      "==============================================================================\n",
      "Omnibus:                      110.170   Durbin-Watson:                   0.363\n",
      "Prob(Omnibus):                  0.000   Jarque-Bera (JB):               57.634\n",
      "Skew:                           0.113   Prob(JB):                     3.05e-13\n",
      "Kurtosis:                       2.423   Cond. No.                         6.85\n",
      "==============================================================================\n",
      "\n",
      "Notes:\n",
      "[1] Standard Errors assume that the covariance matrix of the errors is correctly specified.\n"
     ]
    }
   ],
   "source": [
    "reg_str = \"var1 ~ 1 + tc_group + time_group + tc_groupxtime_group\"\n",
    "res = smf.ols(reg_str, data=df).fit()\n",
    "print(res.summary())"
   ]
  },
  {
   "cell_type": "markdown",
   "id": "ee7141dc-9fe1-437a-9da9-107fb0088d18",
   "metadata": {},
   "source": [
    "## DID regression with time fixed effects"
   ]
  },
  {
   "cell_type": "code",
   "execution_count": 9,
   "id": "556a9130-00d3-4faf-b3fc-1a0046d59952",
   "metadata": {},
   "outputs": [
    {
     "name": "stdout",
     "output_type": "stream",
     "text": [
      "                            OLS Regression Results                            \n",
      "==============================================================================\n",
      "Dep. Variable:                   var1   R-squared:                       0.923\n",
      "Model:                            OLS   Adj. R-squared:                  0.922\n",
      "Method:                 Least Squares   F-statistic:                     6116.\n",
      "Date:                Thu, 24 Mar 2022   Prob (F-statistic):               0.00\n",
      "Time:                        22:44:53   Log-Likelihood:                -623.82\n",
      "No. Observations:                3600   AIC:                             1264.\n",
      "Df Residuals:                    3592   BIC:                             1313.\n",
      "Df Model:                           7                                         \n",
      "Covariance Type:            nonrobust                                         \n",
      "=======================================================================================\n",
      "                          coef    std err          t      P>|t|      [0.025      0.975]\n",
      "---------------------------------------------------------------------------------------\n",
      "t[0]                    0.5018      0.014     36.954      0.000       0.475       0.528\n",
      "t[1]                    1.2994      0.014     95.684      0.000       1.273       1.326\n",
      "t[2]                    2.4296      0.014    178.915      0.000       2.403       2.456\n",
      "t[3]                    1.0594      0.010    107.028      0.000       1.040       1.079\n",
      "t[4]                    0.2586      0.010     26.124      0.000       0.239       0.278\n",
      "t[5]                    0.9832      0.010     99.333      0.000       0.964       1.003\n",
      "tc_group                0.0027      0.014      0.199      0.842      -0.024       0.029\n",
      "time_group              2.3011      0.007    319.520      0.000       2.287       2.315\n",
      "tc_groupxtime_group    -2.0062      0.019   -104.461      0.000      -2.044      -1.969\n",
      "==============================================================================\n",
      "Omnibus:                     2903.717   Durbin-Watson:                   2.006\n",
      "Prob(Omnibus):                  0.000   Jarque-Bera (JB):              214.448\n",
      "Skew:                          -0.008   Prob(JB):                     2.71e-47\n",
      "Kurtosis:                       1.804   Cond. No.                     2.26e+15\n",
      "==============================================================================\n",
      "\n",
      "Notes:\n",
      "[1] Standard Errors assume that the covariance matrix of the errors is correctly specified.\n",
      "[2] The smallest eigenvalue is 7.51e-28. This might indicate that there are\n",
      "strong multicollinearity problems or that the design matrix is singular.\n"
     ]
    }
   ],
   "source": [
    "reg_str = \"var1 ~ -1 + t + tc_group + time_group + tc_groupxtime_group\"\n",
    "res = smf.ols(reg_str, data=df).fit()\n",
    "print(res.summary())"
   ]
  }
 ],
 "metadata": {
  "kernelspec": {
   "display_name": "dev2021b_py",
   "language": "python",
   "name": "dev2021b_py"
  },
  "language_info": {
   "codemirror_mode": {
    "name": "ipython",
    "version": 3
   },
   "file_extension": ".py",
   "mimetype": "text/x-python",
   "name": "python",
   "nbconvert_exporter": "python",
   "pygments_lexer": "ipython3",
   "version": "3.9.7"
  }
 },
 "nbformat": 4,
 "nbformat_minor": 5
}
