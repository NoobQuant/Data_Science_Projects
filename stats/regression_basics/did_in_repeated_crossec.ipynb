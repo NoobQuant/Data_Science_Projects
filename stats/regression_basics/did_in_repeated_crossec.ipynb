{
 "cells": [
  {
   "cell_type": "markdown",
   "id": "343e529a-2046-4564-9f1b-0c8e8913abbc",
   "metadata": {},
   "source": [
    "Notebook on difference-in-difference estimation with repeated cross section data.\n",
    "\n",
    " - Repeated cross-section over 6 periods, from period 0 to period 5\n",
    " - Variable of interest `var1`\n",
    " - Two separate groups in data: `treatment` and `control`\n",
    " - A one-off treatment between periods 2 and 3 (i.e. no staggered treatment) affecting `var1` for observations in `treatment` only\n",
    " - Time-invariant but T/C group variant effect `GC`\n",
    " - Time-and-group variant effect `TGC`\n",
    " - Random time-variant effect `e_t` (affecting `treatment` and `control` in similar manner)"
   ]
  },
  {
   "cell_type": "markdown",
   "id": "77eb93a5-0022-4829-b557-bac4a11d0f5d",
   "metadata": {},
   "source": [
    "## Imports"
   ]
  },
  {
   "cell_type": "code",
   "execution_count": 1,
   "id": "2c4a57c6-5ce3-4c11-ad3e-9fc19cb0a63c",
   "metadata": {},
   "outputs": [],
   "source": [
    "import numpy as np \n",
    "import pandas as pd\n",
    "import matplotlib.pyplot as plt\n",
    "import statsmodels.formula.api as smf\n",
    "import warnings\n",
    "warnings.filterwarnings('ignore')\n",
    "np.random.seed(1)\n",
    "import rpy2\n",
    "%load_ext rpy2.ipython"
   ]
  },
  {
   "cell_type": "code",
   "execution_count": 2,
   "id": "7444dd87-4ba9-46b6-98c5-4f1d3f5482b6",
   "metadata": {},
   "outputs": [],
   "source": [
    "%%R\n",
    "library(dagitty)"
   ]
  },
  {
   "cell_type": "markdown",
   "id": "8706e2d7-407a-40db-aa2b-3f7559c53c70",
   "metadata": {},
   "source": [
    "## DAG of data generating process"
   ]
  },
  {
   "cell_type": "code",
   "execution_count": 3,
   "id": "27862f7d-ba1e-4bbe-9998-e894675aff64",
   "metadata": {},
   "outputs": [
    {
     "data": {
      "image/png": "[encoded data removed]"
     },
     "metadata": {},
     "output_type": "display_data"
    }
   ],
   "source": [
    "%%R -h 300 -w 600\n",
    "g = dagitty('\n",
    "    dag {\n",
    "    \" \" [pos=\"-1.852,-1.353\"]\n",
    "    \"\" [pos=\"0.925,1.366\"]\n",
    "    \"var1_a - var1_b\" [outcome,pos=\"0.429,0.559\"]\n",
    "    GC [adjusted,pos=\"-0.312,1.086\"]\n",
    "    Group [pos=\"-0.746,0.581\"]\n",
    "    TGC [adjusted,pos=\"-0.646,-1.190\"]\n",
    "    Treatment [exposure,pos=\"-0.095,0.574\"]\n",
    "    e_t [pos=\"0.424,-0.534\"]\n",
    "    var1_b [pos=\"-1.801,0.570\"]\n",
    "    GC -> \"var1_a - var1_b\"\n",
    "    GC -> Group\n",
    "    GC -> var1_b\n",
    "    Group -> Treatment\n",
    "    TGC -> \"var1_a - var1_b\"\n",
    "    TGC -> Group\n",
    "    TGC -> var1_b\n",
    "    Treatment -> \"var1_a - var1_b\" [pos=\"0.314,0.581\"]\n",
    "    e_t -> \"var1_a - var1_b\"\n",
    "    var1_b -> \"var1_a - var1_b\" [pos=\"-0.089,0.016\"]\n",
    "    }\n",
    "')\n",
    "plot(g)"
   ]
  },
  {
   "cell_type": "markdown",
   "id": "5480d5ff-0fd3-464a-9ca4-a40278f21463",
   "metadata": {},
   "source": [
    "## Simulate data"
   ]
  },
  {
   "cell_type": "code",
   "execution_count": 4,
   "id": "c228e50a-4683-438e-9e20-51056f6c29db",
   "metadata": {},
   "outputs": [],
   "source": [
    "def simulate_data(treatment_size, tgc_mean_c, gc_mean_c, gc_mean_t):\n",
    "    \n",
    "    for t in range(6):\n",
    "\n",
    "        common_random_trend_deviation = np.abs(np.random.random())\n",
    "\n",
    "        # Control group\n",
    "        df_t = pd.DataFrame(np.random.random(size=300), columns=[\"var1\"]) + t * common_random_trend_deviation\n",
    "\n",
    "        # Group confounding for control\n",
    "        df_t[\"GC\"] = np.random.normal(loc=gc_mean_c, scale=1.0, size=300)\n",
    "        df_t[\"var1\"] = df_t[\"var1\"] + df_t[\"GC\"]\n",
    "\n",
    "        # Time confounding for control\n",
    "        if t >= 2:\n",
    "            df_t[\"TGC\"] = np.random.normal(loc=tgc_mean_c, scale=1.0, size=300)\n",
    "            df_t[\"var1\"] = df_t[\"var1\"] + df_t[\"TGC\"]\n",
    "        else:\n",
    "            df_t[\"TGC\"] = np.random.normal(loc=0, scale=1.0, size=300)\n",
    "            df_t[\"var1\"] = df_t[\"var1\"] + df_t[\"TGC\"]\n",
    "\n",
    "        df_t[\"t\"] = t\n",
    "        if t == 0:\n",
    "            control = df_t\n",
    "        else:\n",
    "            control = control.append(df_t, ignore_index=True)\n",
    "\n",
    "        # Treatment group\n",
    "        df_t = pd.DataFrame(np.random.random(size=300), columns=[\"var1\"]) + t * common_random_trend_deviation\n",
    "\n",
    "        # Group confounding for treatment\n",
    "        df_t[\"group_confounding\"] = np.random.normal(loc=gc_mean_t, scale=1.0, size=300)\n",
    "        df_t[\"var1\"] = df_t[\"var1\"] + df_t[\"group_confounding\"]\n",
    "\n",
    "        # Time confounding for treatment\n",
    "        df_t[\"TGC\"] = np.random.normal(loc=0, scale=1.0, size=300)\n",
    "        df_t[\"var1\"] = df_t[\"var1\"] + df_t[\"TGC\"]\n",
    "\n",
    "        df_t[\"t\"] = t\n",
    "        if t == 0:\n",
    "            treatment_cf = df_t\n",
    "        else:\n",
    "            treatment_cf = treatment_cf.append(df_t, ignore_index=True)\n",
    "\n",
    "    treatment_cf[\"time_group\"] = np.where(treatment_cf[\"t\"] > 2, \"after\", \"before\")\n",
    "    control[\"time_group\"] = np.where(control[\"t\"] > 2, \"after\", \"before\")\n",
    "    treatment_cf[\"tc_group\"] = \"treatment\"\n",
    "    control[\"tc_group\"] = \"control\"\n",
    "\n",
    "    treatment = treatment_cf.copy()\n",
    "    treatment.loc[treatment[\"time_group\"] == \"after\", \"var1\"] = treatment.loc[treatment[\"time_group\"] == \"after\", \"var1\"] + treatment_size\n",
    "\n",
    "    # Save mean values\n",
    "    means = {}\n",
    "    means[\"control_before\"] = control.query(\"time_group == 'before'\")[\"var1\"].mean()\n",
    "    means[\"control_after\"] = control.query(\"time_group == 'after'\")[\"var1\"].mean()\n",
    "    means[\"treatment_before\"] = treatment.query(\"time_group == 'before'\")[\"var1\"].mean()\n",
    "    means[\"treatment_after\"] = treatment.query(\"time_group == 'after'\")[\"var1\"].mean()\n",
    "    means[\"treatment_cf_before\"] = treatment_cf.query(\"time_group == 'before'\")[\"var1\"].mean()\n",
    "    means[\"treatment_cf_after\"] = treatment_cf.query(\"time_group == 'after'\")[\"var1\"].mean()\n",
    "    for t in range(6):\n",
    "        means[\"control_t\" + str(t)] = control.query(\"t == {}\".format(t))[\"var1\"].mean()\n",
    "        means[\"treatment_t\" + str(t)] = treatment.query(\"t == {}\".format(t))[\"var1\"].mean()\n",
    "        means[\"treatment_cf_t\" + str(t)] = treatment_cf.query(\"t == {}\".format(t))[\"var1\"].mean()\n",
    "        \n",
    "    return {\"treatment\": treatment, \"control\": control, \"treatment_cf\": treatment_cf, \"means\": means}\n",
    "\n",
    "# Data with no TGC effect\n",
    "data_1 = simulate_data(\n",
    "    treatment_size = -2,\n",
    "    tgc_mean_c = 0,\n",
    "    gc_mean_c = -1,\n",
    "    gc_mean_t = 1.5,\n",
    ")\n",
    "\n",
    "# Data with TGC effect\n",
    "data_2 = simulate_data(\n",
    "    treatment_size = -2,\n",
    "    tgc_mean_c = 1,\n",
    "    gc_mean_c = -1,\n",
    "    gc_mean_t = 1.5,\n",
    ")"
   ]
  },
  {
   "cell_type": "markdown",
   "id": "b10ed3c6-32df-43f3-8f2b-dcb5b1024276",
   "metadata": {},
   "source": [
    "## Plot data"
   ]
  },
  {
   "cell_type": "code",
   "execution_count": 5,
   "id": "435e6407-82fe-4b28-83fc-cc4f59fe7be3",
   "metadata": {},
   "outputs": [],
   "source": [
    "def plot_data(data):\n",
    "    \n",
    "    treatment = data[\"treatment\"]\n",
    "    control = data[\"control\"]\n",
    "    treatment_cf = data[\"treatment_cf\"]\n",
    "    means = data[\"means\"]\n",
    "    \n",
    "    time_fe_mean_line_pos = [(0, 0.1), (0.175, 0.275), (0.375, 0.475), (0.55, 0.65), (0.75, 0.825), (0.90, 1)]\n",
    "    def format_ax(ax):\n",
    "        ax.set_xlabel(None)\n",
    "        ax.set_ylabel(None)\n",
    "        ax.axvline(2.5, linestyle=\"--\", c=\"red\")\n",
    "        ax.set_ylim(-4, 8)\n",
    "        \n",
    "    fig = plt.figure(figsize=(10, 6))\n",
    "\n",
    "    ax = fig.add_subplot(2, 1, 1)\n",
    "    control.plot.scatter(x=\"t\", y=\"var1\", ax=ax, s=1)\n",
    "    ax.axhline(y=means[\"control_before\"], xmin=0, xmax=0.5, linestyle=\"--\")\n",
    "    ax.axhline(y=means[\"control_after\"], xmin=0.5, xmax=1.0, linestyle=\"--\")\n",
    "    for t, xminmax in zip(range(6), time_fe_mean_line_pos):\n",
    "        ax.axhline(y=means[\"control_t\" + str(t)], xmin=xminmax[0], xmax=xminmax[1], linestyle=\"--\")\n",
    "\n",
    "    format_ax(ax)\n",
    "    ax.set_title(\"Control\")\n",
    "\n",
    "    ax = fig.add_subplot(2, 1, 2)\n",
    "    treatment.plot.scatter(x=\"t\", y=\"var1\", ax=ax, s=1)\n",
    "    treatment_cf.query(\"time_group == 'after'\").plot.scatter(x=\"t\", y=\"var1\", ax=ax, color=\"orange\", s=1)\n",
    "    ax.axhline(y=means[\"treatment_before\"], xmin=0, xmax=0.5, linestyle=\"--\")\n",
    "    ax.axhline(y=means[\"treatment_cf_after\"], xmin=0.5, xmax=1.0, linestyle=\"--\", color=\"orange\")\n",
    "    ax.axhline(y=means[\"treatment_after\"], xmin=0.5, xmax=1.0, linestyle=\"--\")\n",
    "    ax.axhline(y=means[\"treatment_before\"] + (means[\"control_after\"] - means[\"control_before\"]), xmin=0.5, xmax=1.0, linestyle=\"--\", color=\"green\")\n",
    "    for t, xminmax in zip(range(6), time_fe_mean_line_pos):\n",
    "        ax.axhline(y=means[\"treatment_t\" + str(t)], xmin=xminmax[0], xmax=xminmax[1], linestyle=\"--\")\n",
    "        if t > 2:\n",
    "            ax.axhline(y=means[\"treatment_cf_t\" + str(t)], xmin=xminmax[0], xmax=xminmax[1], linestyle=\"--\", color=\"orange\")\n",
    "    format_ax(ax)\n",
    "    ax.set_title(\"Treatment\")\n",
    "\n",
    "    fig.tight_layout()\n",
    "\n",
    "    print(\"Control before mean {:.3f}\".format(means[\"control_before\"]))\n",
    "    print(\"Control after mean {:.3f}\".format(means[\"control_after\"]))\n",
    "    print(\"Treament before mean {:.3f}\".format(means[\"treatment_before\"]))\n",
    "    print(\"Treament after mean {:.3f}\".format(means[\"treatment_after\"]))\n",
    "    print(\"Treatment counterfactual after mean {:.3f}\".format(means[\"treatment_cf_after\"]))\n",
    "\n",
    "    for el in [\"control\", \"treatment\", \"treatment_cf\"]:\n",
    "        for t in range(6):\n",
    "            print(\"{} t_{} mean {:.3f}\".format(\n",
    "                el,\n",
    "                t, \n",
    "                means[el + \"_t\" + str(t)],\n",
    "            ))\n",
    "    print(\"Treatment estimated counterfactual after mean {:.3f}\".format(means[\"treatment_before\"] + (means[\"control_after\"] - means[\"control_before\"])))\n",
    "    print(\"Simple did-estimate {:.3f}\".format(\n",
    "        (means[\"treatment_after\"] - means[\"treatment_before\"]) -     \n",
    "        (means[\"control_after\"] - means[\"control_before\"])\n",
    "    ))"
   ]
  },
  {
   "cell_type": "code",
   "execution_count": 6,
   "id": "c2b0b2a2-0080-435a-aaed-5ee9e357a5ff",
   "metadata": {},
   "outputs": [
    {
     "name": "stdout",
     "output_type": "stream",
     "text": [
      "Control before mean 0.252\n",
      "Control after mean 2.847\n",
      "Treament before mean 2.886\n",
      "Treament after mean 3.482\n",
      "Treatment counterfactual after mean 5.482\n",
      "control t_0 mean -0.479\n",
      "control t_1 mean 0.149\n",
      "control t_2 mean 1.086\n",
      "control t_3 mean 2.203\n",
      "control t_4 mean 2.750\n",
      "control t_5 mean 3.587\n",
      "treatment t_0 mean 2.070\n",
      "treatment t_1 mean 2.830\n",
      "treatment t_2 mean 3.758\n",
      "treatment t_3 mean 2.815\n",
      "treatment t_4 mean 3.630\n",
      "treatment t_5 mean 3.999\n",
      "treatment_cf t_0 mean 2.070\n",
      "treatment_cf t_1 mean 2.830\n",
      "treatment_cf t_2 mean 3.758\n",
      "treatment_cf t_3 mean 4.815\n",
      "treatment_cf t_4 mean 5.630\n",
      "treatment_cf t_5 mean 5.999\n",
      "Treatment estimated counterfactual after mean 5.481\n",
      "Simple did-estimate -1.999\n"
     ]
    },
    {
     "data": {
      "image/png": "[encoded data removed]",
      "text/plain": [
       "<Figure size 720x432 with 2 Axes>"
      ]
     },
     "metadata": {
      "needs_background": "light"
     },
     "output_type": "display_data"
    }
   ],
   "source": [
    "plot_data(data_1)"
   ]
  },
  {
   "cell_type": "code",
   "execution_count": 7,
   "id": "36e3bdd0-60a1-4264-b581-7bc375bd9cfb",
   "metadata": {},
   "outputs": [
    {
     "name": "stdout",
     "output_type": "stream",
     "text": [
      "Control before mean 0.506\n",
      "Control after mean 2.519\n",
      "Treament before mean 2.588\n",
      "Treament after mean 2.009\n",
      "Treatment counterfactual after mean 4.009\n",
      "control t_0 mean -0.442\n",
      "control t_1 mean 0.087\n",
      "control t_2 mean 1.872\n",
      "control t_3 mean 0.769\n",
      "control t_4 mean 1.415\n",
      "control t_5 mean 5.374\n",
      "treatment t_0 mean 2.117\n",
      "treatment t_1 mean 2.180\n",
      "treatment t_2 mean 3.466\n",
      "treatment t_3 mean 0.372\n",
      "treatment t_4 mean 0.865\n",
      "treatment t_5 mean 4.791\n",
      "treatment_cf t_0 mean 2.117\n",
      "treatment_cf t_1 mean 2.180\n",
      "treatment_cf t_2 mean 3.466\n",
      "treatment_cf t_3 mean 2.372\n",
      "treatment_cf t_4 mean 2.865\n",
      "treatment_cf t_5 mean 6.791\n",
      "Treatment estimated counterfactual after mean 4.601\n",
      "Simple did-estimate -2.592\n"
     ]
    },
    {
     "data": {
      "image/png": "[encoded data removed]",
      "text/plain": [
       "<Figure size 720x432 with 2 Axes>"
      ]
     },
     "metadata": {
      "needs_background": "light"
     },
     "output_type": "display_data"
    }
   ],
   "source": [
    "plot_data(data_2)"
   ]
  },
  {
   "cell_type": "markdown",
   "id": "6ef1a7a1-3604-4187-b7d2-9c56cfbcb40f",
   "metadata": {},
   "source": [
    "## Regression frame"
   ]
  },
  {
   "cell_type": "code",
   "execution_count": 8,
   "id": "b1b4e6e7-3b02-4b00-bdfb-08cc55324ae7",
   "metadata": {},
   "outputs": [],
   "source": [
    "def prepare_regression_frame(treatment, control):\n",
    "    \n",
    "    df = treatment.copy().append(control.copy(), ignore_index=True)\n",
    "    df[\"time_group\"] = df[\"time_group\"].map({\"before\": 0, \"after\": 1})\n",
    "    df[\"tc_group\"] = df[\"tc_group\"].map({\"control\": 0, \"treatment\": 1})\n",
    "    df[\"tc_groupxtime_group\"] = df[\"time_group\"] * df[\"tc_group\"]\n",
    "    df[\"t\"] = df[\"t\"].astype(str)\n",
    "    \n",
    "    return df\n",
    "\n",
    "df_1 = prepare_regression_frame(data_1[\"treatment\"], data_1[\"control\"])\n",
    "df_2 = prepare_regression_frame(data_2[\"treatment\"], data_2[\"control\"])"
   ]
  },
  {
   "cell_type": "markdown",
   "id": "4aebb86a-63ea-4258-8fdf-133423d299c9",
   "metadata": {},
   "source": [
    "## Simple DID regression"
   ]
  },
  {
   "cell_type": "markdown",
   "id": "1542ec2e-5259-4b3b-b9f8-b12b43c1552e",
   "metadata": {},
   "source": [
    "When *TGC* is zero, naive DiD-estimate of the treatment effect is correct (unbiased). "
   ]
  },
  {
   "cell_type": "code",
   "execution_count": 9,
   "id": "4619558c-6f2e-4d17-b5c4-f54f8ef60397",
   "metadata": {},
   "outputs": [
    {
     "name": "stdout",
     "output_type": "stream",
     "text": [
      "                            OLS Regression Results                            \n",
      "==============================================================================\n",
      "Dep. Variable:                   var1   R-squared:                       0.392\n",
      "Model:                            OLS   Adj. R-squared:                  0.391\n",
      "Method:                 Least Squares   F-statistic:                     771.5\n",
      "Date:                Fri, 25 Mar 2022   Prob (F-statistic):               0.00\n",
      "Time:                        19:07:58   Log-Likelihood:                -6695.1\n",
      "No. Observations:                3600   AIC:                         1.340e+04\n",
      "Df Residuals:                    3596   BIC:                         1.342e+04\n",
      "Df Model:                           3                                         \n",
      "Covariance Type:            nonrobust                                         \n",
      "=======================================================================================\n",
      "                          coef    std err          t      P>|t|      [0.025      0.975]\n",
      "---------------------------------------------------------------------------------------\n",
      "Intercept               0.2517      0.052      4.856      0.000       0.150       0.353\n",
      "tc_group                2.6343      0.073     35.941      0.000       2.491       2.778\n",
      "time_group              2.5952      0.073     35.407      0.000       2.451       2.739\n",
      "tc_groupxtime_group    -1.9995      0.104    -19.290      0.000      -2.203      -1.796\n",
      "==============================================================================\n",
      "Omnibus:                        0.585   Durbin-Watson:                   1.678\n",
      "Prob(Omnibus):                  0.746   Jarque-Bera (JB):                0.548\n",
      "Skew:                          -0.028   Prob(JB):                        0.760\n",
      "Kurtosis:                       3.022   Cond. No.                         6.85\n",
      "==============================================================================\n",
      "\n",
      "Notes:\n",
      "[1] Standard Errors assume that the covariance matrix of the errors is correctly specified.\n"
     ]
    }
   ],
   "source": [
    "reg_str = \"var1 ~ 1 + tc_group + time_group + tc_groupxtime_group\"\n",
    "res = smf.ols(reg_str, data=df_1).fit()\n",
    "print(res.summary())"
   ]
  },
  {
   "cell_type": "markdown",
   "id": "c65c852a-d304-456d-b3e7-eb8a8b2a0cef",
   "metadata": {},
   "source": [
    "When *TGC* is not zero, naive DiD-estimate of the treatment effect is biased. "
   ]
  },
  {
   "cell_type": "code",
   "execution_count": 10,
   "id": "7e1aba89-c66b-4cc7-bd24-1858f862c0d6",
   "metadata": {},
   "outputs": [
    {
     "name": "stdout",
     "output_type": "stream",
     "text": [
      "                            OLS Regression Results                            \n",
      "==============================================================================\n",
      "Dep. Variable:                   var1   R-squared:                       0.136\n",
      "Model:                            OLS   Adj. R-squared:                  0.136\n",
      "Method:                 Least Squares   F-statistic:                     189.3\n",
      "Date:                Fri, 25 Mar 2022   Prob (F-statistic):          5.61e-114\n",
      "Time:                        19:07:58   Log-Likelihood:                -7796.3\n",
      "No. Observations:                3600   AIC:                         1.560e+04\n",
      "Df Residuals:                    3596   BIC:                         1.563e+04\n",
      "Df Model:                           3                                         \n",
      "Covariance Type:            nonrobust                                         \n",
      "=======================================================================================\n",
      "                          coef    std err          t      P>|t|      [0.025      0.975]\n",
      "---------------------------------------------------------------------------------------\n",
      "Intercept               0.5056      0.070      7.184      0.000       0.368       0.644\n",
      "tc_group                2.0823      0.100     20.922      0.000       1.887       2.277\n",
      "time_group              2.0135      0.100     20.231      0.000       1.818       2.209\n",
      "tc_groupxtime_group    -2.5923      0.141    -18.418      0.000      -2.868      -2.316\n",
      "==============================================================================\n",
      "Omnibus:                       72.669   Durbin-Watson:                   0.952\n",
      "Prob(Omnibus):                  0.000   Jarque-Bera (JB):               72.176\n",
      "Skew:                           0.321   Prob(JB):                     2.12e-16\n",
      "Kurtosis:                       2.735   Cond. No.                         6.85\n",
      "==============================================================================\n",
      "\n",
      "Notes:\n",
      "[1] Standard Errors assume that the covariance matrix of the errors is correctly specified.\n"
     ]
    }
   ],
   "source": [
    "reg_str = \"var1 ~ 1 + tc_group + time_group + tc_groupxtime_group\"\n",
    "res = smf.ols(reg_str, data=df_2).fit()\n",
    "print(res.summary())"
   ]
  },
  {
   "cell_type": "markdown",
   "id": "946414d4-4b54-4530-99c2-772e99fbb5bd",
   "metadata": {},
   "source": [
    "## DID regression with *TGC* as covariate\n",
    "\n",
    "When we can adjust for *TGC*, the DiD-estimate is estimated with less bias (seems there is some bias left?)."
   ]
  },
  {
   "cell_type": "code",
   "execution_count": 11,
   "id": "0c12e86f-ecc7-4659-acf9-2b51d778a403",
   "metadata": {},
   "outputs": [
    {
     "name": "stdout",
     "output_type": "stream",
     "text": [
      "                            OLS Regression Results                            \n",
      "==============================================================================\n",
      "Dep. Variable:                   var1   R-squared:                       0.370\n",
      "Model:                            OLS   Adj. R-squared:                  0.369\n",
      "Method:                 Least Squares   F-statistic:                     527.5\n",
      "Date:                Fri, 25 Mar 2022   Prob (F-statistic):               0.00\n",
      "Time:                        19:07:58   Log-Likelihood:                -7229.1\n",
      "No. Observations:                3600   AIC:                         1.447e+04\n",
      "Df Residuals:                    3595   BIC:                         1.450e+04\n",
      "Df Model:                           4                                         \n",
      "Covariance Type:            nonrobust                                         \n",
      "=======================================================================================\n",
      "                          coef    std err          t      P>|t|      [0.025      0.975]\n",
      "---------------------------------------------------------------------------------------\n",
      "Intercept               0.1241      0.061      2.033      0.042       0.004       0.244\n",
      "TGC                     1.0553      0.029     36.493      0.000       0.999       1.112\n",
      "tc_group                2.4317      0.086     28.419      0.000       2.264       2.599\n",
      "time_group              1.3305      0.087     15.282      0.000       1.160       1.501\n",
      "tc_groupxtime_group    -1.9018      0.122    -15.624      0.000      -2.140      -1.663\n",
      "==============================================================================\n",
      "Omnibus:                      121.330   Durbin-Watson:                   0.708\n",
      "Prob(Omnibus):                  0.000   Jarque-Bera (JB):              131.868\n",
      "Skew:                           0.461   Prob(JB):                     2.32e-29\n",
      "Kurtosis:                       2.832   Cond. No.                         7.38\n",
      "==============================================================================\n",
      "\n",
      "Notes:\n",
      "[1] Standard Errors assume that the covariance matrix of the errors is correctly specified.\n"
     ]
    }
   ],
   "source": [
    "reg_str = \"var1 ~ 1 + TGC + tc_group + time_group + tc_groupxtime_group\"\n",
    "res = smf.ols(reg_str, data=df_2).fit()\n",
    "print(res.summary())"
   ]
  },
  {
   "cell_type": "markdown",
   "id": "ee7141dc-9fe1-437a-9da9-107fb0088d18",
   "metadata": {},
   "source": [
    "## DID regression with time fixed effects\n",
    "\n",
    "Here treatment is a one-off phenomenon between periods 2 and 3. In addition to *time_grop*, it makes no sense (in identification sense!) to add time fixed effects for each time period: it adds nothing new compared to having *time_group* in the regression. If treatment was staggered over multiple periods, then we could need time FEs. See e.g. [here](https://stats.stackexchange.com/questions/455986/panel-data-diff-in-diff-and-the-pattern-of-the-binary-treatment-indicator)."
   ]
  },
  {
   "cell_type": "code",
   "execution_count": 12,
   "id": "a7c39b5c-b87d-46aa-a88d-59ed0f01a365",
   "metadata": {},
   "outputs": [
    {
     "name": "stdout",
     "output_type": "stream",
     "text": [
      "                            OLS Regression Results                            \n",
      "==============================================================================\n",
      "Dep. Variable:                   var1   R-squared:                       0.482\n",
      "Model:                            OLS   Adj. R-squared:                  0.481\n",
      "Method:                 Least Squares   F-statistic:                     477.8\n",
      "Date:                Fri, 25 Mar 2022   Prob (F-statistic):               0.00\n",
      "Time:                        19:07:58   Log-Likelihood:                -6404.9\n",
      "No. Observations:                3600   AIC:                         1.283e+04\n",
      "Df Residuals:                    3592   BIC:                         1.288e+04\n",
      "Df Model:                           7                                         \n",
      "Covariance Type:            nonrobust                                         \n",
      "=======================================================================================\n",
      "                          coef    std err          t      P>|t|      [0.025      0.975]\n",
      "---------------------------------------------------------------------------------------\n",
      "t[0]                   -0.5220      0.068     -7.715      0.000      -0.655      -0.389\n",
      "t[1]                    0.1724      0.068      2.548      0.011       0.040       0.305\n",
      "t[2]                    1.1046      0.068     16.326      0.000       0.972       1.237\n",
      "t[3]                    2.1919      0.068     32.398      0.000       2.059       2.325\n",
      "t[4]                    2.8729      0.068     42.463      0.000       2.740       3.006\n",
      "t[5]                    3.4757      0.068     51.372      0.000       3.343       3.608\n",
      "tc_group                2.6343      0.068     38.936      0.000       2.502       2.767\n",
      "tc_groupxtime_group    -1.9995      0.096    -20.897      0.000      -2.187      -1.812\n",
      "==============================================================================\n",
      "Omnibus:                        1.671   Durbin-Watson:                   1.972\n",
      "Prob(Omnibus):                  0.434   Jarque-Bera (JB):                1.606\n",
      "Skew:                          -0.040   Prob(JB):                        0.448\n",
      "Kurtosis:                       3.065   Cond. No.                         4.62\n",
      "==============================================================================\n",
      "\n",
      "Notes:\n",
      "[1] Standard Errors assume that the covariance matrix of the errors is correctly specified.\n"
     ]
    }
   ],
   "source": [
    "reg_str = \"var1 ~ -1 + tc_group + t + tc_groupxtime_group\"\n",
    "res = smf.ols(reg_str, data=df_1).fit()\n",
    "print(res.summary())"
   ]
  }
 ],
 "metadata": {
  "kernelspec": {
   "display_name": "dev2021b_py",
   "language": "python",
   "name": "dev2021b_py"
  },
  "language_info": {
   "codemirror_mode": {
    "name": "ipython",
    "version": 3
   },
   "file_extension": ".py",
   "mimetype": "text/x-python",
   "name": "python",
   "nbconvert_exporter": "python",
   "pygments_lexer": "ipython3",
   "version": "3.9.7"
  }
 },
 "nbformat": 4,
 "nbformat_minor": 5
}
