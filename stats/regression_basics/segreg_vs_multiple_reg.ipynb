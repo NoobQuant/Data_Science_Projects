{
 "cells": [
  {
   "cell_type": "markdown",
   "metadata": {},
   "source": [
    "Notebook to investigate segmented regression results vs. results from separate regressions. Some links to relevant StackOverflow threads:\n",
    "\n",
    " - [Link 1](https://stats.stackexchange.com/a/13115/162538)\n",
    " - [Link 2](https://stats.stackexchange.com/a/12809/162538)\n",
    " - [Link 3](https://stats.stackexchange.com/a/468666/162538)"
   ]
  },
  {
   "cell_type": "code",
   "execution_count": 1,
   "metadata": {},
   "outputs": [],
   "source": [
    "import numpy as np \n",
    "import pandas as pd\n",
    "import matplotlib.pyplot as plt\n",
    "import statsmodels.api as sm\n",
    "import warnings\n",
    "from copy import deepcopy\n",
    "#warnings.filterwarnings('ignore')\n",
    "np.random.seed(5000)"
   ]
  },
  {
   "cell_type": "markdown",
   "metadata": {},
   "source": [
    "The true data generating process:\n",
    "\n",
    "$$\n",
    "\\begin{equation}\n",
    "  y_t=\\begin{cases}\n",
    "    b_1 x_t + u_t, & t \\leq 150\\\\\n",
    "    b_2 x_t + u_t, & t > 150\n",
    "  \\end{cases}\n",
    "\\end{equation},\n",
    "$$\n",
    "\n",
    "where $t = 1, \\dots , T$, $T=300$, and $u_{t} \\sim N(\\mu_{u}, \\sigma_{u})$ denotes (Normally distributed) random noise term. Distribution for exogenous variable $x_{t} \\sim N(0, 1)$."
   ]
  },
  {
   "cell_type": "code",
   "execution_count": 2,
   "metadata": {},
   "outputs": [],
   "source": [
    "# Parameters\n",
    "T = 300\n",
    "periods = list(np.arange(1, T+1))\n",
    "mu_u = 0\n",
    "sigma_u = 1\n",
    "b_1 = 1\n",
    "b_2 = 3\n",
    "\n",
    "# Generate random data\n",
    "df = pd.DataFrame(np.random.normal(mu_u, sigma_u, [T, 1]), columns=[\"u\"], index=periods)\n",
    "df.index.names = [\"time\"]\n",
    "df[\"x\"] = np.random.normal(0, 1, [T, 1])\n",
    "df[\"y\"] = np.where(df.index<=150, b_1 * df[\"x\"] + df[\"u\"], b_2 * df[\"x\"] + df[\"u\"])\n",
    "\n",
    "# Add post dummy and interact with x\n",
    "df[\"post\"] = np.where(df.index<=150, 0, 1)\n",
    "df[\"x_post\"] = df[\"post\"] * df[\"x\"]"
   ]
  },
  {
   "cell_type": "markdown",
   "metadata": {},
   "source": [
    "Regressions:\n",
    "\n",
    " 1. Segmented regression $y = \\gamma_1 x_t + \\gamma_2 x_t Post_t + \\epsilon_{1,t}$\n",
    " 2. Pre-sample regression $y = \\beta_1 x_t + \\epsilon_{2,t}$\n",
    " 3. Post-sample regression $y = \\beta_2 x_t + \\epsilon_{3,t}$\n",
    " \n",
    "where $Post_t = 0$ when $t\\leq 150$, otherwise 1."
   ]
  },
  {
   "cell_type": "code",
   "execution_count": 3,
   "metadata": {},
   "outputs": [],
   "source": [
    "regs = {\n",
    "    \"segmented\": {\n",
    "        \"formula\": \"y ~ -1 + x + x_post\",\n",
    "        \"data\": df.copy(),\n",
    "    },\n",
    "    \"pre\": {\n",
    "        \"formula\": \"y ~ -1 + x\",\n",
    "        \"data\": df[df.index <= 150].copy(),\n",
    "    },\n",
    "    \"post\": {\n",
    "        \"formula\": \"y ~ -1 + x\",\n",
    "        \"data\": df[df.index > 150].copy(),\n",
    "    },\n",
    "}\n",
    "\n",
    "items = deepcopy(list(regs.keys()))\n",
    "for key in items:    \n",
    "    regs[key][\"res\"] = sm.OLS.from_formula(regs[key][\"formula\"], data=regs[key][\"data\"]).fit()"
   ]
  },
  {
   "cell_type": "code",
   "execution_count": 4,
   "metadata": {},
   "outputs": [
    {
     "name": "stdout",
     "output_type": "stream",
     "text": [
      "                                 OLS Regression Results                                \n",
      "=======================================================================================\n",
      "Dep. Variable:                      y   R-squared (uncentered):                   0.806\n",
      "Model:                            OLS   Adj. R-squared (uncentered):              0.804\n",
      "Method:                 Least Squares   F-statistic:                              617.6\n",
      "Date:                Sun, 02 Jan 2022   Prob (F-statistic):                   1.01e-106\n",
      "Time:                        13:40:47   Log-Likelihood:                         -444.76\n",
      "No. Observations:                 300   AIC:                                      893.5\n",
      "Df Residuals:                     298   BIC:                                      900.9\n",
      "Df Model:                           2                                                  \n",
      "Covariance Type:            nonrobust                                                  \n",
      "==============================================================================\n",
      "                 coef    std err          t      P>|t|      [0.025      0.975]\n",
      "------------------------------------------------------------------------------\n",
      "x              1.0178      0.084     12.181      0.000       0.853       1.182\n",
      "x_post         2.0052      0.124     16.163      0.000       1.761       2.249\n",
      "==============================================================================\n",
      "Omnibus:                        6.383   Durbin-Watson:                   2.043\n",
      "Prob(Omnibus):                  0.041   Jarque-Bera (JB):                3.777\n",
      "Skew:                          -0.029   Prob(JB):                        0.151\n",
      "Kurtosis:                       2.453   Cond. No.                         2.52\n",
      "==============================================================================\n",
      "\n",
      "Notes:\n",
      "[1] R² is computed without centering (uncentered) since the model does not contain a constant.\n",
      "[2] Standard Errors assume that the covariance matrix of the errors is correctly specified.\n",
      "\n",
      "----------------------------------------\n",
      "Separate t-test for x + x_post = 0: \n",
      "                             Test for Constraints                             \n",
      "==============================================================================\n",
      "                 coef    std err          t      P>|t|      [0.025      0.975]\n",
      "------------------------------------------------------------------------------\n",
      "c0             3.0230      0.092     32.967      0.000       2.843       3.203\n",
      "==============================================================================\n"
     ]
    }
   ],
   "source": [
    "print(regs[\"segmented\"][\"res\"].summary())\n",
    "print(\"\")\n",
    "print(\"-\"*40)\n",
    "print(\"Separate t-test for x + x_post = 0: \")\n",
    "print(regs[\"segmented\"][\"res\"].t_test(\"x + x_post = 0\"))"
   ]
  },
  {
   "cell_type": "code",
   "execution_count": 5,
   "metadata": {},
   "outputs": [
    {
     "name": "stdout",
     "output_type": "stream",
     "text": [
      "                                 OLS Regression Results                                \n",
      "=======================================================================================\n",
      "Dep. Variable:                      y   R-squared (uncentered):                   0.491\n",
      "Model:                            OLS   Adj. R-squared (uncentered):              0.487\n",
      "Method:                 Least Squares   F-statistic:                              143.5\n",
      "Date:                Sun, 02 Jan 2022   Prob (F-statistic):                    1.40e-23\n",
      "Time:                        13:40:47   Log-Likelihood:                         -224.89\n",
      "No. Observations:                 150   AIC:                                      451.8\n",
      "Df Residuals:                     149   BIC:                                      454.8\n",
      "Df Model:                           1                                                  \n",
      "Covariance Type:            nonrobust                                                  \n",
      "==============================================================================\n",
      "                 coef    std err          t      P>|t|      [0.025      0.975]\n",
      "------------------------------------------------------------------------------\n",
      "x              1.0178      0.085     11.978      0.000       0.850       1.186\n",
      "==============================================================================\n",
      "Omnibus:                        1.396   Durbin-Watson:                   2.087\n",
      "Prob(Omnibus):                  0.498   Jarque-Bera (JB):                1.216\n",
      "Skew:                           0.020   Prob(JB):                        0.545\n",
      "Kurtosis:                       2.561   Cond. No.                         1.00\n",
      "==============================================================================\n",
      "\n",
      "Notes:\n",
      "[1] R² is computed without centering (uncentered) since the model does not contain a constant.\n",
      "[2] Standard Errors assume that the covariance matrix of the errors is correctly specified.\n"
     ]
    }
   ],
   "source": [
    "print(regs[\"pre\"][\"res\"].summary())"
   ]
  },
  {
   "cell_type": "code",
   "execution_count": 6,
   "metadata": {},
   "outputs": [
    {
     "name": "stdout",
     "output_type": "stream",
     "text": [
      "                                 OLS Regression Results                                \n",
      "=======================================================================================\n",
      "Dep. Variable:                      y   R-squared (uncentered):                   0.883\n",
      "Model:                            OLS   Adj. R-squared (uncentered):              0.882\n",
      "Method:                 Least Squares   F-statistic:                              1125.\n",
      "Date:                Sun, 02 Jan 2022   Prob (F-statistic):                    2.53e-71\n",
      "Time:                        13:40:47   Log-Likelihood:                         -219.78\n",
      "No. Observations:                 150   AIC:                                      441.6\n",
      "Df Residuals:                     149   BIC:                                      444.6\n",
      "Df Model:                           1                                                  \n",
      "Covariance Type:            nonrobust                                                  \n",
      "==============================================================================\n",
      "                 coef    std err          t      P>|t|      [0.025      0.975]\n",
      "------------------------------------------------------------------------------\n",
      "x              3.0230      0.090     33.544      0.000       2.845       3.201\n",
      "==============================================================================\n",
      "Omnibus:                        5.405   Durbin-Watson:                   1.968\n",
      "Prob(Omnibus):                  0.067   Jarque-Bera (JB):                2.951\n",
      "Skew:                          -0.080   Prob(JB):                        0.229\n",
      "Kurtosis:                       2.332   Cond. No.                         1.00\n",
      "==============================================================================\n",
      "\n",
      "Notes:\n",
      "[1] R² is computed without centering (uncentered) since the model does not contain a constant.\n",
      "[2] Standard Errors assume that the covariance matrix of the errors is correctly specified.\n"
     ]
    }
   ],
   "source": [
    "print(regs[\"post\"][\"res\"].summary())"
   ]
  },
  {
   "cell_type": "code",
   "execution_count": 7,
   "metadata": {},
   "outputs": [
    {
     "name": "stdout",
     "output_type": "stream",
     "text": [
      "s=1.06922, s_check=1.06922, s1=1.08730, s2=1.05083\n",
      "se_x_post=0.12406, se_x_post_check=0.12406\n"
     ]
    }
   ],
   "source": [
    "# Regression model standard errors\n",
    "# https://www.statsmodels.org/dev/generated/statsmodels.regression.linear_model.RegressionResults.scale.html#statsmodels.regression.linear_model.RegressionResults.scale\n",
    "s = np.sqrt(regs[\"segmented\"][\"res\"].scale)\n",
    "s1 = np.sqrt(regs[\"pre\"][\"res\"].scale)\n",
    "s2 = np.sqrt(regs[\"post\"][\"res\"].scale)\n",
    "s_check = np.sqrt(\n",
    "    (\n",
    "        (regs[\"pre\"][\"res\"].nobs - len(regs[\"pre\"][\"res\"].params)) * np.power(s1, 2) + \\\n",
    "        (regs[\"post\"][\"res\"].nobs - len(regs[\"post\"][\"res\"].params)) * np.power(s2, 2)\n",
    "    ) / \\\n",
    "    (regs[\"pre\"][\"res\"].nobs + regs[\"post\"][\"res\"].nobs - 2*len(regs[\"pre\"][\"res\"].params))\n",
    ")\n",
    "print(\"s={:.5f}, s_check={:.5f}, s1={:.5f}, s2={:.5f}\".format(s, s_check, s1, s2))\n",
    "\n",
    "# Standard errors for estimate x_post\n",
    "se_x_post = regs[\"segmented\"][\"res\"].bse[\"x_post\"]\n",
    "se_x_post_check = s * np.sqrt(\n",
    "    np.power(regs[\"pre\"][\"res\"].bse[\"x\"] / s1, 2) + np.power(regs[\"post\"][\"res\"].bse[\"x\"] / s2, 2)\n",
    ")\n",
    "print(\"se_x_post={:.5f}, se_x_post_check={:.5f}\".format(se_x_post, se_x_post_check))"
   ]
  }
 ],
 "metadata": {
  "kernelspec": {
   "display_name": "dev2021_py",
   "language": "python",
   "name": "dev2021_py"
  },
  "language_info": {
   "codemirror_mode": {
    "name": "ipython",
    "version": 3
   },
   "file_extension": ".py",
   "mimetype": "text/x-python",
   "name": "python",
   "nbconvert_exporter": "python",
   "pygments_lexer": "ipython3",
   "version": "3.8.5"
  }
 },
 "nbformat": 4,
 "nbformat_minor": 4
}
