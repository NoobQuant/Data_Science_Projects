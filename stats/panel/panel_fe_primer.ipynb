{
 "cells": [
  {
   "cell_type": "markdown",
   "metadata": {},
   "source": [
    "# Primer on panel data fixed effects estimation\n",
    "\n",
    "Under construction...\n",
    "\n",
    "References:\n",
    " - [Cunningham (2021) chapter 8](https://mixtape.scunning.com/panel-data.html)"
   ]
  },
  {
   "cell_type": "code",
   "execution_count": 1,
   "metadata": {},
   "outputs": [],
   "source": [
    "import numpy as np \n",
    "import pandas as pd\n",
    "import matplotlib.pyplot as plt\n",
    "import statsmodels.api as sm\n",
    "import rpy2\n",
    "import warnings\n",
    "warnings.filterwarnings('ignore')\n",
    "np.random.seed(5000)\n",
    "%load_ext rpy2.ipython"
   ]
  },
  {
   "cell_type": "code",
   "execution_count": 2,
   "metadata": {},
   "outputs": [],
   "source": [
    "%%R\n",
    "library(dagitty)\n",
    "library(plm)"
   ]
  },
  {
   "cell_type": "markdown",
   "metadata": {},
   "source": [
    "Assume a population of $N$ individuals recorded over time periods $t=0, \\dots , T$."
   ]
  },
  {
   "cell_type": "code",
   "execution_count": 3,
   "metadata": {},
   "outputs": [],
   "source": [
    "N=300\n",
    "periods = list(np.arange(0, 12*30))\n",
    "T = len(periods)"
   ]
  },
  {
   "cell_type": "markdown",
   "metadata": {},
   "source": [
    "## Setting 1\n",
    "\n",
    "The true data generating process for outcome variable of each individual $i$ is a unobserved effects model \n",
    "\n",
    "$$Y_{it} = u_i + \\delta D_t + \\epsilon_{i,t} \\quad \\quad i=1, \\dots, N; \\ t=1, \\dots, T,$$\n",
    "\n",
    "where $u_i \\sim N(\\mu_u, \\sigma_u)$ are the un-observed individual effecta, $\\delta$ is the treatment effect, and $\\epsilon_{i,t} \\sim N(\\mu_{\\epsilon}, \\sigma_{\\epsilon})$ are the idisuncratic noise terms. For each individual treatment status $D$ is applied according to following rules: everybody starts with $D_{i,0} = 0$. At each period $t$, individual with $D_{i,t} = 0$ has a probability $p_t$ to get assigned $D_{i,t+1} = 1$. At each period $t$, individual with $D_{i,t} = 1$ has a probability $p_c$ to get assigned $D_{i,t+1} = 0$. "
   ]
  },
  {
   "cell_type": "code",
   "execution_count": 4,
   "metadata": {},
   "outputs": [],
   "source": [
    "# DGP parameters\n",
    "p_t = 0.01\n",
    "p_c = 0.003\n",
    "delta = 0.3\n",
    "mu_u = 1\n",
    "sigma_u = 3\n",
    "mu_e = 0\n",
    "sigma_e = 1"
   ]
  },
  {
   "cell_type": "markdown",
   "metadata": {},
   "source": [
    "### Generate data"
   ]
  },
  {
   "cell_type": "code",
   "execution_count": 5,
   "metadata": {},
   "outputs": [
    {
     "name": "stdout",
     "output_type": "stream",
     "text": [
      "u shape: (360, 300)\n",
      "eps shape: (360, 300)\n",
      "D shape: (360, 300)\n"
     ]
    },
    {
     "data": {
      "text/html": [
       "<div>\n",
       "<style scoped>\n",
       "    .dataframe tbody tr th:only-of-type {\n",
       "        vertical-align: middle;\n",
       "    }\n",
       "\n",
       "    .dataframe tbody tr th {\n",
       "        vertical-align: top;\n",
       "    }\n",
       "\n",
       "    .dataframe thead th {\n",
       "        text-align: right;\n",
       "    }\n",
       "</style>\n",
       "<table border=\"1\" class=\"dataframe\">\n",
       "  <thead>\n",
       "    <tr style=\"text-align: right;\">\n",
       "      <th></th>\n",
       "      <th>time</th>\n",
       "      <th>individ</th>\n",
       "      <th>Y</th>\n",
       "      <th>u</th>\n",
       "      <th>D</th>\n",
       "      <th>epa</th>\n",
       "    </tr>\n",
       "  </thead>\n",
       "  <tbody>\n",
       "    <tr>\n",
       "      <th>0</th>\n",
       "      <td>0</td>\n",
       "      <td>0</td>\n",
       "      <td>-1.889545</td>\n",
       "      <td>-0.93115</td>\n",
       "      <td>0.0</td>\n",
       "      <td>-0.958394</td>\n",
       "    </tr>\n",
       "  </tbody>\n",
       "</table>\n",
       "</div>"
      ],
      "text/plain": [
       "   time individ         Y        u    D       epa\n",
       "0     0       0 -1.889545 -0.93115  0.0 -0.958394"
      ]
     },
     "metadata": {},
     "output_type": "display_data"
    },
    {
     "data": {
      "text/html": [
       "<div>\n",
       "<style scoped>\n",
       "    .dataframe tbody tr th:only-of-type {\n",
       "        vertical-align: middle;\n",
       "    }\n",
       "\n",
       "    .dataframe tbody tr th {\n",
       "        vertical-align: top;\n",
       "    }\n",
       "\n",
       "    .dataframe thead th {\n",
       "        text-align: right;\n",
       "    }\n",
       "</style>\n",
       "<table border=\"1\" class=\"dataframe\">\n",
       "  <thead>\n",
       "    <tr style=\"text-align: right;\">\n",
       "      <th></th>\n",
       "      <th>Y</th>\n",
       "      <th>D</th>\n",
       "    </tr>\n",
       "  </thead>\n",
       "  <tbody>\n",
       "    <tr>\n",
       "      <th>0</th>\n",
       "      <td>-1.889545</td>\n",
       "      <td>0.0</td>\n",
       "    </tr>\n",
       "  </tbody>\n",
       "</table>\n",
       "</div>"
      ],
      "text/plain": [
       "          Y    D\n",
       "0 -1.889545  0.0"
      ]
     },
     "metadata": {},
     "output_type": "display_data"
    },
    {
     "data": {
      "image/png": "[encoded data removed]",
      "text/plain": [
       "<Figure size 720x288 with 1 Axes>"
      ]
     },
     "metadata": {
      "needs_background": "light"
     },
     "output_type": "display_data"
    }
   ],
   "source": [
    "# u and eps\n",
    "u = pd.DataFrame(np.tile(np.random.normal(mu_u, sigma_u, [1, N]), (T, 1)))\n",
    "u.index.names = [\"time\"]\n",
    "u.columns.names = [\"individ\"]\n",
    "\n",
    "eps = pd.DataFrame(np.random.normal(mu_e, sigma_e, [T, N]))\n",
    "eps.index.names = [\"time\"]\n",
    "eps.columns.names = [\"individ\"]\n",
    "\n",
    "# D; t first frame \"other way around\"\n",
    "D = np.empty([N, T]) # At first frame \"other way around\"\n",
    "D[:, :] = np.nan\n",
    "D[:, 0] = 0\n",
    "D = pd.DataFrame(D)\n",
    "D.columns.names = [\"time\"]\n",
    "D.index.names = [\"individ\"]\n",
    "\n",
    "for t in range(0, T-1):\n",
    "    \n",
    "    D_0 = pd.DataFrame(D.loc[D[t]==0, t].copy())\n",
    "    D_0.columns =[\"zeros\"]\n",
    "    D_1 = pd.DataFrame(D.loc[D[t]==1, t].copy())\n",
    "    D_1.columns =[\"ones\"]\n",
    "\n",
    "    # Draw transfer probabilities and statuses for current zeros and ones\n",
    "    D_0[\"tp\"] = np.random.uniform(0, 1, len(D_0))\n",
    "    D_0[\"ts\"] = np.where(D_0[\"tp\"] < p_t, 1, 0)\n",
    "    D_1[\"tp\"] = np.random.uniform(0, 1, len(D_1))\n",
    "    D_1[\"ts\"] = np.where(D_1[\"tp\"] < p_c, 0, 1)\n",
    "    \n",
    "    # Append statuses to D\n",
    "    D.loc[D_0.index.values, t+1] = D_0[\"ts\"]\n",
    "    D.loc[D_1.index.values, t+1] = D_1[\"ts\"]   \n",
    "D = D.T\n",
    "\n",
    "# Y\n",
    "Y = u + delta*D + eps\n",
    "\n",
    "# Chceks\n",
    "print(\"u shape: {}\".format(u.shape))\n",
    "print(\"eps shape: {}\".format(eps.shape))\n",
    "print(\"D shape: {}\".format(D.shape))\n",
    "\n",
    "# Plot treated share over time\n",
    "fig = plt.figure(figsize=(10, 4))\n",
    "ax = fig.add_subplot(1, 1, 1)\n",
    "(D.sum(axis=1) / N).plot(ax=ax)\n",
    "_ = ax.set_title(\"Share of D=1 over time\")\n",
    "\n",
    "# Melt frames and combine into regression frame\n",
    "combined = {\"Y\":Y.copy(), \"u\":u.copy(), \"D\":D.copy(), \"epa\":eps.copy()}\n",
    "for key in combined:\n",
    "    combined[key] = pd.melt(combined[key].reset_index(), id_vars='time')\n",
    "    combined[key] = combined[key].rename(columns={\"value\":key})\n",
    "\n",
    "for counter, key in enumerate(combined):\n",
    "    if counter==0:\n",
    "        df = combined[key].copy()\n",
    "    else:\n",
    "        df = pd.merge(df, combined[key].copy(), how=\"left\", on=[\"time\", \"individ\"])\n",
    "df_reg = df[[\"Y\", \"D\"]].copy()\n",
    "display(df.head(1))\n",
    "display(df_reg.head(1))"
   ]
  },
  {
   "cell_type": "markdown",
   "metadata": {},
   "source": [
    "### Estimate treatment effec using fixed effects one-way within estimator\n",
    "\n",
    "Even the tratement is assigned at individual level, one might need to estimate covariance matrix with individual-level clusters due to multiple time periods. See [here](https://blogs.worldbank.org/impactevaluations/when-should-you-cluster-standard-errors-new-wisdom-econometrics-oracle) under *The Experimental Design Reason for Clustering*."
   ]
  },
  {
   "cell_type": "code",
   "execution_count": 6,
   "metadata": {},
   "outputs": [],
   "source": [
    "%%R -i df -o out\n",
    "formula = as.formula(\"Y ~ D\")\n",
    "model_fe = plm(\n",
    "    formula=formula,\n",
    "    data=df,\n",
    "    effect=\"individual\",\n",
    "    index=c(\"individ\"),\n",
    "    model=\"within\"\n",
    ")\n",
    "#out = summary(model_fe, vcov=NULL)\n",
    "out = summary(model_fe, vcov=function(x) vcovHC(x, method=\"arellano\", cluster=\"group\"))"
   ]
  },
  {
   "cell_type": "code",
   "execution_count": 7,
   "metadata": {},
   "outputs": [
    {
     "name": "stdout",
     "output_type": "stream",
     "text": [
      "Oneway (individual) effect Within Model\n",
      "\n",
      "Note: Coefficient variance-covariance matrix supplied: function(x) vcovHC(x, method = \"arellano\", cluster = \"group\")\n",
      "\n",
      "Call:\n",
      "plm(formula = formula, data = df, effect = \"individual\", model = \"within\", \n",
      "    index = c(\"individ\"))\n",
      "\n",
      "Balanced Panel: n = 300, T = 360, N = 108000\n",
      "\n",
      "Residuals:\n",
      "      Min.    1st Qu.     Median    3rd Qu.       Max. \n",
      "-4.8017254 -0.6719503  0.0003071  0.6693827  4.0549949 \n",
      "\n",
      "Coefficients:\n",
      "   Estimate Std. Error t-value  Pr(>|t|)    \n",
      "D 0.3066878  0.0075731  40.497 < 2.2e-16 ***\n",
      "---\n",
      "Signif. codes:  0 '***' 0.001 '**' 0.01 '*' 0.05 '.' 0.1 ' ' 1\n",
      "\n",
      "Total Sum of Squares:    108310\n",
      "Residual Sum of Squares: 106540\n",
      "R-Squared:      0.016264\n",
      "Adj. R-Squared: 0.013523\n",
      "F-statistic: 1639.99 on 1 and 299 DF, p-value: < 2.22e-16\n",
      "\n"
     ]
    }
   ],
   "source": [
    "print(out)"
   ]
  }
 ],
 "metadata": {
  "kernelspec": {
   "display_name": "dev2021_py",
   "language": "python",
   "name": "dev2021_py"
  },
  "language_info": {
   "codemirror_mode": {
    "name": "ipython",
    "version": 3
   },
   "file_extension": ".py",
   "mimetype": "text/x-python",
   "name": "python",
   "nbconvert_exporter": "python",
   "pygments_lexer": "ipython3",
   "version": "3.8.5"
  }
 },
 "nbformat": 4,
 "nbformat_minor": 4
}
