{
 "cells": [
  {
   "cell_type": "markdown",
   "id": "94f4c04a-af60-4028-b956-c6e6ccb74a5e",
   "metadata": {},
   "source": [
    "My own notebook to play around with the [did](https://github.com/bcallaway11/did) package by Brantly Callaway and Pedro H.C. Sant’Anna. See the vignette [Getting Started with the did Package](https://cran.r-project.org/web/packages/did/vignettes/did-basics.html).\n",
    "\n",
    "Still very much work in progress!\n",
    "\n",
    "Notes\n",
    " - Used conda environment in the notebook is `dev2023a` from [here](https://github.com/vvoutilainen/dsenvs/blob/main/condaenv.md). *did* package was installed by:\n",
    "   - First installing *r-ggpubr* to `dev2023a` via conda/mamba. This also downloaded packages *r-pbkrtest*, *r-car*, *r-rstatix*\n",
    "   - Next, *did* was installed using R's `install.packages()` command with `dependencies=TRUE`. This also installed a few additional packages (*trust*, *BMisc*, *pbapply* , *DRDID*).\n",
    " - Repeated cross-section can be created by using `panel=FALSE` in function `build_sim_dataset`.\n",
    " - By default, the did package uses the group of units that never participate in the treatment as the control group. The \"not yet treated\" include the never treated as well as those units that, for a particular point in time, have not been treated yet (though they eventually become treated).\n",
    " \n",
    "Questions\n",
    "\n",
    " - How is `G` in data used? Why does \"never-treated\" get `G=0`? I guess the point is that zeroeth period does not exist in the period column and this is why it is assigned as the \"time of treatment\" for the control group. Check! "
   ]
  },
  {
   "cell_type": "markdown",
   "id": "db39f445-0332-4019-9b8b-7fe76fe3433f",
   "metadata": {},
   "source": [
    "# Imports and auxiliary functions"
   ]
  },
  {
   "cell_type": "code",
   "execution_count": null,
   "id": "bfce203f-c209-4727-9781-5fc8dc7e3d05",
   "metadata": {},
   "outputs": [],
   "source": [
    "%%capture\n",
    "import numpy as np\n",
    "np.random.seed(1)\n",
    "import pandas as pd\n",
    "import matplotlib.pyplot as plt\n",
    "import statsmodels.formula.api as smf\n",
    "import rpy2\n",
    "%load_ext rpy2.ipython\n",
    "\n",
    "from did_helpers import(\n",
    "    simulate_did_data,\n",
    "    plot_repcrossec_data,\n",
    "    #plot_panel_data,\n",
    "    parallel_trends_plot,\n",
    ")"
   ]
  },
  {
   "cell_type": "code",
   "execution_count": null,
   "id": "3df2745e-befd-4a9c-ad4b-6541f3c1bd83",
   "metadata": {},
   "outputs": [],
   "source": [
    "%%R\n",
    "library(did)\n",
    "set.seed(1814)"
   ]
  },
  {
   "cell_type": "code",
   "execution_count": null,
   "id": "1b0a08dd-5495-48dd-852d-3d9d260a39a1",
   "metadata": {},
   "outputs": [],
   "source": [
    "def plot_group_means(df):\n",
    "    fig = plt.figure(figsize=(6, 3))\n",
    "    ax = fig.add_subplot(1, 1, 1)\n",
    "    _ = df.groupby([\n",
    "        \"G\",\n",
    "        \"period\",\n",
    "    ]).agg({\"Y\": \"mean\"}).reset_index().pivot_table(\n",
    "        values=\"Y\",\n",
    "        index=\"period\",\n",
    "        columns=\"G\"\n",
    "    ).plot(\n",
    "        style='.--',\n",
    "        ax=ax,\n",
    "    )\n",
    "\n",
    "def plot_group_cluster_means(df):\n",
    "    fig = plt.figure(figsize=(8, 4))\n",
    "    for counter, g in enumerate(df[\"G\"].unique()):\n",
    "        ax = fig.add_subplot(2, 2, counter+1)\n",
    "        df.query(\"G=={}\".format(g)).groupby([\n",
    "            \"cluster\",\n",
    "            \"period\",\n",
    "        ]).agg({\"Y\": \"mean\"}).reset_index().pivot_table(\n",
    "            values=\"Y\",\n",
    "            index=\"period\",\n",
    "            columns=\"cluster\"\n",
    "        ).plot(\n",
    "            style='.--',\n",
    "            legend=False,\n",
    "            linewidth=0.5,\n",
    "            markersize=2,\n",
    "            ax=ax,\n",
    "        )\n",
    "        ax.set_title(\"G = {}\".format(g))\n",
    "    fig.tight_layout()"
   ]
  },
  {
   "cell_type": "markdown",
   "id": "b5ed7186-e9b7-4533-b5b0-4b103d0ddccc",
   "metadata": {},
   "source": [
    "# Panel data"
   ]
  },
  {
   "cell_type": "markdown",
   "id": "57f0bb3f-87b9-4591-9d20-f1c1256dbff3",
   "metadata": {},
   "source": [
    "## Example with vanilla panel model: two-groups, two-periods"
   ]
  },
  {
   "cell_type": "code",
   "execution_count": null,
   "id": "55ca4dd8-f9ca-4a8f-81e1-5008cfa3bcea",
   "metadata": {},
   "outputs": [],
   "source": [
    "%%R -o dta\n",
    "sp = reset.sim(time.periods=2)\n",
    "sp$thet = rep(0, sp$time.periods)\n",
    "sp$theu = rep(0, sp$time.periods)\n",
    "sp$bett = rep(0, sp$time.periods)\n",
    "sp$betu = rep(0, sp$time.periods)\n",
    "sp$te.bet.ind = rep(0, sp$time.periods)\n",
    "sp$te.bet.X = rep(0, sp$time.periods)\n",
    "sp$te.t = rep(0, sp$time.periods)\n",
    "sp$te = 0\n",
    "dta = build_sim_dataset(sp)"
   ]
  },
  {
   "cell_type": "code",
   "execution_count": null,
   "id": "b2f3334b-425a-40c7-b9a0-6e3f7a05c1da",
   "metadata": {},
   "outputs": [],
   "source": [
    "print(\"Length of data frame\".format(len(dta)))\n",
    "print(\"Number of unique observations per id: {}\".format(\n",
    "    dta.groupby([\"id\"]).agg({\"Y\": \"count\"}).loc[:, \"Y\"].unique()\n",
    "))\n",
    "plot_group_means(dta)"
   ]
  },
  {
   "cell_type": "code",
   "execution_count": null,
   "id": "798fe37a-b0d8-4659-90fd-5b8a2f05a10f",
   "metadata": {},
   "outputs": [],
   "source": [
    "# Build model in statsmodels\n",
    "dta[\"period_dummy\"] = np.where(dta[\"period\"] < 2, 0, 1)\n",
    "dta[\"periodxtreatment_dummy\"] = dta[\"period_dummy\"] * dta[\"treat\"]\n",
    "reg_str = \"Y ~ 1 + treat + period_dummy + periodxtreatment_dummy\"\n",
    "res = smf.ols(reg_str, data=dta).fit(\n",
    "    cov_type=\"cluster\",\n",
    "    cov_kwds={\n",
    "        \"groups\": dta[\"id\"],\n",
    "        \"use_correction\": False,\n",
    "    }\n",
    ")\n",
    "print(\"Regression: {}\\n\".format(reg_str))\n",
    "print(res.summary())"
   ]
  },
  {
   "cell_type": "code",
   "execution_count": null,
   "id": "105e993f-84f2-40cc-b6d7-611b3d6a31fe",
   "metadata": {},
   "outputs": [],
   "source": [
    "%%R -i dta\n",
    "# Repeat using did package, same result\n",
    "# Warning relates to Wald pre-treatment period test \n",
    "out = att_gt(\n",
    "    yname=\"Y\",\n",
    "    tname=\"period\",,\n",
    "    idname=\"id\",\n",
    "    gname=\"G\",\n",
    "    bstrap=F,\n",
    "    panel=T,\n",
    "    data=dta,\n",
    ")\n",
    "summary(out)"
   ]
  },
  {
   "cell_type": "markdown",
   "id": "1e3cca99-72cd-437e-9787-eaaeb4cdbbed",
   "metadata": {},
   "source": [
    "## Example from the vignette"
   ]
  },
  {
   "cell_type": "code",
   "execution_count": null,
   "id": "db2642e5-8859-48f8-a0dd-0612cfb07413",
   "metadata": {},
   "outputs": [],
   "source": [
    "%%R -o dta,sp\n",
    "sp = reset.sim()\n",
    "time_periods = 4\n",
    "sp$te.e <- 1:time_periods\n",
    "dta = build_sim_dataset(sp)"
   ]
  },
  {
   "cell_type": "code",
   "execution_count": null,
   "id": "dd223eb6-0ed2-4c13-b4fc-98685e43611b",
   "metadata": {},
   "outputs": [],
   "source": [
    "plot_group_means(dta)"
   ]
  },
  {
   "cell_type": "code",
   "execution_count": null,
   "id": "cc4705bc-d036-4d27-b65f-8e13e69263f2",
   "metadata": {},
   "outputs": [],
   "source": [
    "plot_group_cluster_means(dta)"
   ]
  },
  {
   "cell_type": "code",
   "execution_count": null,
   "id": "e705cafb-552f-4243-b3c1-3c6cc55c4734",
   "metadata": {},
   "outputs": [],
   "source": [
    "%%R\n",
    "# Control group never treated\n",
    "attgt_1 = att_gt(\n",
    "    yname=\"Y\",\n",
    "    tname=\"period\",\n",
    "    idname=\"id\",\n",
    "    gname=\"G\",\n",
    "    xformla=~X,\n",
    "    control_group=\"notyettreated\",\n",
    "    data=dta\n",
    ")\n",
    "\n",
    "# Control group never treated + not yet treated\n",
    "attgt_2 = att_gt(\n",
    "    yname=\"Y\",\n",
    "    tname=\"period\",\n",
    "    idname=\"id\",\n",
    "    gname=\"G\",\n",
    "    xformla=~X,\n",
    "    control_group=\"nevertreated\",\n",
    "    data=dta\n",
    ")\n",
    "\n",
    "# Aggregate over groups\n",
    "agg_simple_1 = aggte(attgt_1, type=\"simple\")\n",
    "agg_dynamic_1 = aggte(attgt_1, type=\"dynamic\")\n",
    "agg_group_1 = aggte(attgt_1, type=\"group\")\n",
    "\n",
    "agg_simple_2 = aggte(attgt_2, type=\"simple\")\n",
    "agg_dynamic_2 = aggte(attgt_2, type=\"dynamic\")\n",
    "agg_group_2 = aggte(attgt_2, type=\"group\")"
   ]
  },
  {
   "cell_type": "code",
   "execution_count": null,
   "id": "3a66284b-89da-47f3-acb9-de93d40b22ed",
   "metadata": {},
   "outputs": [],
   "source": [
    "%%R\n",
    "summary(agg_simple_1)\n",
    "summary(agg_simple_2)"
   ]
  },
  {
   "cell_type": "code",
   "execution_count": null,
   "id": "fca33e3f-4466-49f3-ab74-aaf15345563e",
   "metadata": {},
   "outputs": [],
   "source": [
    "%%R\n",
    "summary(attgt_2)\n",
    "ggdid(attgt_2)"
   ]
  },
  {
   "cell_type": "code",
   "execution_count": null,
   "id": "a9144f96-0c23-42f8-923f-6b6c58d7641c",
   "metadata": {},
   "outputs": [],
   "source": [
    "%%R\n",
    "summary(agg_dynamic_2)\n",
    "ggdid(agg_dynamic_2)"
   ]
  },
  {
   "cell_type": "code",
   "execution_count": null,
   "id": "dde986e5-b86a-4792-bb40-0734bf69bf55",
   "metadata": {},
   "outputs": [],
   "source": [
    "%%R\n",
    "summary(agg_group_2)\n",
    "ggdid(agg_group_2)"
   ]
  },
  {
   "cell_type": "markdown",
   "id": "4fb6278d-c415-4063-920f-c9bcf7239a3b",
   "metadata": {},
   "source": [
    "# Repeated cross section"
   ]
  },
  {
   "cell_type": "markdown",
   "id": "15e57213-4c36-44df-84c0-0daf5eff70fb",
   "metadata": {},
   "source": [
    "## Example with *did* simulated wanilla two-group, two-period case"
   ]
  },
  {
   "cell_type": "code",
   "execution_count": null,
   "id": "cf27598d-982e-473e-be34-fc79fd733f8f",
   "metadata": {},
   "outputs": [],
   "source": [
    "%%R -o dta\n",
    "sp = reset.sim(time.periods=2)\n",
    "dta = build_sim_dataset(sp, panel=FALSE)\n",
    "dta = subset(dta, select = -c(cluster) )"
   ]
  },
  {
   "cell_type": "code",
   "execution_count": null,
   "id": "fb06e716-8b55-4b00-97bf-148e190747e8",
   "metadata": {},
   "outputs": [],
   "source": [
    "print(\"Length of data frame\".format(len(dta)))\n",
    "print(\"Number of unique observations per id: {}\".format(\n",
    "    dta.groupby([\"id\"]).agg({\"Y\": \"count\"}).loc[:, \"Y\"].unique()\n",
    "))\n",
    "plot_group_means(dta)"
   ]
  },
  {
   "cell_type": "code",
   "execution_count": null,
   "id": "eb8f412c-d15a-49aa-8131-8381e01aadfb",
   "metadata": {},
   "outputs": [],
   "source": [
    "# Build model in statsmodels\n",
    "dta[\"period_dummy\"] = np.where(dta[\"period\"] < 2, 0, 1)\n",
    "dta[\"periodxtreatment_dummy\"] = dta[\"period_dummy\"] * dta[\"treat\"]\n",
    "reg_str = \"Y ~ 1 + treat + period_dummy + periodxtreatment_dummy\"\n",
    "res = smf.ols(reg_str, data=dta).fit(\n",
    "    cov_type=\"cluster\",\n",
    "    cov_kwds={\n",
    "        \"groups\": dta[\"id\"],\n",
    "        \"use_correction\": False,\n",
    "    }\n",
    ")\n",
    "print(\"Regression: {}\\n\".format(reg_str))\n",
    "print(res.summary())"
   ]
  },
  {
   "cell_type": "code",
   "execution_count": null,
   "id": "3195f6cc-190b-4587-bf6e-a428ac67db14",
   "metadata": {},
   "outputs": [],
   "source": [
    "%%R -i dta\n",
    "# Repeat using did package, same result\n",
    "# Warning relates to Wald pre-treatment period test \n",
    "out = att_gt(\n",
    "    yname=\"Y\",\n",
    "    tname=\"period\",\n",
    "    gname=\"G\",\n",
    "    bstrap=F,\n",
    "    panel=F,\n",
    "    data=dta,\n",
    ")\n",
    "summary(out)"
   ]
  },
  {
   "cell_type": "markdown",
   "id": "9c72c5c0-0329-4b7c-848b-81bb15f93c83",
   "metadata": {},
   "source": [
    "## Example with my own simulated multi-period, two-group case"
   ]
  },
  {
   "cell_type": "code",
   "execution_count": null,
   "id": "1aa06687-5683-440a-b367-3cf7480b7d36",
   "metadata": {},
   "outputs": [],
   "source": [
    "data_1 = simulate_did_data(\n",
    "    param_datasettype=\"repeated cross-section\",\n",
    "    param_gamma_c=4,\n",
    "    param_gamma_t=1,\n",
    ")"
   ]
  },
  {
   "cell_type": "code",
   "execution_count": null,
   "id": "953c2fcf-9bc1-4c2a-9727-383a8f4165aa",
   "metadata": {},
   "outputs": [],
   "source": [
    "plot_repcrossec_data(data_1, figsize=(12, 8))"
   ]
  },
  {
   "cell_type": "code",
   "execution_count": null,
   "id": "ef5d4726-7506-4dec-b903-ae07269865d9",
   "metadata": {},
   "outputs": [],
   "source": [
    "parallel_trends_plot(data_1, figsize=(10, 6))"
   ]
  },
  {
   "cell_type": "code",
   "execution_count": null,
   "id": "fed53e81-d647-4b19-b4a0-9fd65b93dbec",
   "metadata": {},
   "outputs": [],
   "source": [
    "def prepare_regression_frame(data):\n",
    "    df = data[\"observed\"].copy()\n",
    "\n",
    "    # Code categories as dummies\n",
    "    df[\"dummy_period\"] = df[\"time_group\"].map({\n",
    "        \"before\": 0,\n",
    "        \"post\": 1,\n",
    "    })\n",
    "    df[\"dummy_group\"] = df[\"treatment_group\"].map({\n",
    "        \"control\": 0,\n",
    "        \"treatment\": 1,\n",
    "    })\n",
    "    df[\"dummy_group_x_period\"] = df[\"dummy_period\"] * df[\"dummy_group\"]\n",
    "\n",
    "    # Time points as categorical/str\n",
    "    df[\"t\"] = df[\"t\"].astype(str)\n",
    "\n",
    "    return df"
   ]
  },
  {
   "cell_type": "code",
   "execution_count": null,
   "id": "676d3d92-aeef-4a10-8af1-56a05981b237",
   "metadata": {},
   "outputs": [],
   "source": [
    "df = prepare_regression_frame(data_1)\n",
    "reg_str = \"Y ~ -1 + dummy_group + t + dummy_group_x_period\"\n",
    "res = smf.ols(reg_str, data=df).fit()\n",
    "print(res.summary())"
   ]
  },
  {
   "cell_type": "code",
   "execution_count": null,
   "id": "c389570d-f6c1-4528-ae28-044b74df64b7",
   "metadata": {},
   "outputs": [],
   "source": [
    "# Prepare for R-did\n",
    "df[\"t\"] = (df[\"t\"].astype(int) + 1).astype(\"object\")\n",
    "df[\"t_num\"] = df[\"t\"].copy().astype(float)\n",
    "df[\"tc_group_num\"] = df[\"treatment_group\"].copy().map({\"control\": 0, \"treatment\": 4})"
   ]
  },
  {
   "cell_type": "code",
   "execution_count": null,
   "id": "9c41f515-ded3-45f6-86b8-44a9f2826d82",
   "metadata": {},
   "outputs": [],
   "source": [
    "%%R -i df\n",
    "out = att_gt(\n",
    "    yname=\"Y\",\n",
    "    tname=\"t_num\",\n",
    "    gname=\"tc_group_num\",\n",
    "    bstrap=F,\n",
    "    panel=F,\n",
    "    data=df,\n",
    ")\n",
    "agg_simple = aggte(out, type=\"simple\")\n",
    "summary(out)\n",
    "summary(agg_simple)"
   ]
  },
  {
   "cell_type": "code",
   "execution_count": null,
   "id": "a93be4c8-9188-46c0-8eba-ffde81567045",
   "metadata": {},
   "outputs": [],
   "source": []
  }
 ],
 "metadata": {
  "kernelspec": {
   "display_name": "dev2023a_py",
   "language": "python",
   "name": "dev2023a_py"
  },
  "language_info": {
   "codemirror_mode": {
    "name": "ipython",
    "version": 3
   },
   "file_extension": ".py",
   "mimetype": "text/x-python",
   "name": "python",
   "nbconvert_exporter": "python",
   "pygments_lexer": "ipython3",
   "version": "3.10.9"
  }
 },
 "nbformat": 4,
 "nbformat_minor": 5
}
