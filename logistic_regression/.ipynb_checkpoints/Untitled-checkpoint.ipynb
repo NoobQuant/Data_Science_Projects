{
 "cells": [
  {
   "cell_type": "code",
   "execution_count": 62,
   "metadata": {},
   "outputs": [
    {
     "data": {
      "text/html": [
       "<script>requirejs.config({paths: { 'plotly': ['https://cdn.plot.ly/plotly-latest.min']},});if(!window.Plotly) {{require(['plotly'],function(plotly) {window.Plotly=plotly;});}}</script>"
      ],
      "text/vnd.plotly.v1+html": [
       "<script>requirejs.config({paths: { 'plotly': ['https://cdn.plot.ly/plotly-latest.min']},});if(!window.Plotly) {{require(['plotly'],function(plotly) {window.Plotly=plotly;});}}</script>"
      ]
     },
     "metadata": {},
     "output_type": "display_data"
    },
    {
     "data": {
      "application/vnd.plotly.v1+json": {
       "data": [
        {
         "x": [
          0,
          0
         ],
         "y": [
          0,
          0
         ]
        }
       ],
       "frames": [
        {
         "data": [
          {
           "x": [
            0,
            0
           ],
           "y": [
            0,
            0
           ]
          }
         ]
        },
        {
         "data": [
          {
           "x": [
            1,
            2
           ],
           "y": [
            3,
            3
           ]
          }
         ]
        },
        {
         "data": [
          {
           "x": [
            2,
            3
           ],
           "y": [
            3,
            3
           ]
          }
         ],
         "layout": {
          "title": "End Title"
         }
        }
       ],
       "layout": {
        "title": "Start Title",
        "updatemenus": [
         {
          "buttons": [
           {
            "args": [
             null
            ],
            "label": "Play",
            "method": "animate"
           }
          ],
          "type": "buttons"
         }
        ],
        "xaxis": {
         "autorange": false,
         "range": [
          0,
          5
         ]
        },
        "yaxis": {
         "autorange": false,
         "range": [
          0,
          5
         ]
        }
       }
      },
      "text/html": [
       "<div id=\"8807ba28-3b59-4848-9dda-50edd1d66678\" style=\"height: 525px; width: 100%;\" class=\"plotly-graph-div\"></div><script type=\"text/javascript\">require([\"plotly\"], function(Plotly) { window.PLOTLYENV=window.PLOTLYENV || {};window.PLOTLYENV.BASE_URL=\"https://plot.ly\";\n",
       "        Plotly.plot(\n",
       "            '8807ba28-3b59-4848-9dda-50edd1d66678',\n",
       "            [{\"x\": [0, 0], \"y\": [0, 0]}],\n",
       "            {\"xaxis\": {\"autorange\": false, \"range\": [0, 5]}, \"title\": \"Start Title\", \"updatemenus\": [{\"buttons\": [{\"args\": [null], \"label\": \"Play\", \"method\": \"animate\"}], \"type\": \"buttons\"}], \"yaxis\": {\"autorange\": false, \"range\": [0, 5]}},\n",
       "            {\"linkText\": \"Export to plot.ly\", \"showLink\": true}\n",
       "        ).then(function () {return Plotly.addFrames('8807ba28-3b59-4848-9dda-50edd1d66678',[{\"data\": [{\"x\": [0, 0], \"y\": [0, 0]}]}, {\"data\": [{\"x\": [1, 2], \"y\": [3, 3]}]}, {\"data\": [{\"x\": [2, 3], \"y\": [3, 3]}], \"layout\": {\"title\": \"End Title\"}}]);}).then(function(){Plotly.animate('8807ba28-3b59-4848-9dda-50edd1d66678');})\n",
       "        });</script>"
      ],
      "text/vnd.plotly.v1+html": [
       "<div id=\"8807ba28-3b59-4848-9dda-50edd1d66678\" style=\"height: 525px; width: 100%;\" class=\"plotly-graph-div\"></div><script type=\"text/javascript\">require([\"plotly\"], function(Plotly) { window.PLOTLYENV=window.PLOTLYENV || {};window.PLOTLYENV.BASE_URL=\"https://plot.ly\";\n",
       "        Plotly.plot(\n",
       "            '8807ba28-3b59-4848-9dda-50edd1d66678',\n",
       "            [{\"x\": [0, 0], \"y\": [0, 0]}],\n",
       "            {\"xaxis\": {\"autorange\": false, \"range\": [0, 5]}, \"title\": \"Start Title\", \"updatemenus\": [{\"buttons\": [{\"args\": [null], \"label\": \"Play\", \"method\": \"animate\"}], \"type\": \"buttons\"}], \"yaxis\": {\"autorange\": false, \"range\": [0, 5]}},\n",
       "            {\"linkText\": \"Export to plot.ly\", \"showLink\": true}\n",
       "        ).then(function () {return Plotly.addFrames('8807ba28-3b59-4848-9dda-50edd1d66678',[{\"data\": [{\"x\": [0, 0], \"y\": [0, 0]}]}, {\"data\": [{\"x\": [1, 2], \"y\": [3, 3]}]}, {\"data\": [{\"x\": [2, 3], \"y\": [3, 3]}], \"layout\": {\"title\": \"End Title\"}}]);}).then(function(){Plotly.animate('8807ba28-3b59-4848-9dda-50edd1d66678');})\n",
       "        });</script>"
      ]
     },
     "metadata": {},
     "output_type": "display_data"
    }
   ],
   "source": [
    "from plotly.offline import init_notebook_mode, iplot\n",
    "from IPython.display import display, HTML\n",
    "import numpy as np\n",
    "\n",
    "init_notebook_mode(connected=True)\n",
    "\n",
    "figure = {'data': [{'x': [0, 0], 'y': [0, 0]}],\n",
    "          \n",
    "          'layout': {'xaxis': {'range': [0, 5], 'autorange': False},\n",
    "                     'yaxis': {'range': [0, 5], 'autorange': False},\n",
    "                     'title': 'Start Title',\n",
    "                     'updatemenus': [{'type': 'buttons',\n",
    "                                      'buttons': [{'label': 'Play',\n",
    "                                                   'method': 'animate',\n",
    "                                                   'args': [None]}]}]\n",
    "                    },\n",
    "          \n",
    "          'frames': [\n",
    "                     {'data': [{'x': [0, 0], 'y': [0, 0]}]},              \n",
    "                     {'data': [{'x': [1, 2], 'y': [3, 3]}]},\n",
    "                     {'data': [{'x': [2, 3], 'y': [3, 3]}],'layout': {'title': 'End Title'}}\n",
    "                    ]}\n",
    "\n",
    "iplot(figure)"
   ]
  },
  {
   "cell_type": "code",
   "execution_count": null,
   "metadata": {},
   "outputs": [],
   "source": []
  },
  {
   "cell_type": "code",
   "execution_count": 95,
   "metadata": {
    "scrolled": false
   },
   "outputs": [
    {
     "data": {
      "application/vnd.plotly.v1+json": {
       "data": [
        {
         "mode": "text",
         "text": [
          "alpha",
          "Text H",
          "="
         ],
         "x": [
          0.5,
          0.5,
          3
         ],
         "y": [
          4,
          1,
          3
         ]
        }
       ],
       "frames": [
        {
         "data": [
          {
           "x": [
            0.5,
            0.5,
            3
           ],
           "y": [
            4,
            1,
            3
           ]
          }
         ]
        },
        {
         "data": [
          {
           "x": [
            2,
            2.5,
            3
           ],
           "y": [
            3,
            3,
            3
           ]
          }
         ],
         "layout": {
          "title": "End Title"
         }
        }
       ],
       "layout": {
        "title": "Start Title",
        "updatemenus": [
         {
          "buttons": [
           {
            "args": [
             null
            ],
            "label": "Play",
            "method": "animate"
           }
          ],
          "type": "buttons"
         }
        ],
        "xaxis": {
         "autorange": false,
         "range": [
          0,
          5
         ],
         "showgrid": false,
         "showticklabels": false,
         "zeroline": false
        },
        "yaxis": {
         "autorange": false,
         "range": [
          0,
          5
         ],
         "showgrid": false,
         "showticklabels": false,
         "zeroline": false
        }
       }
      },
      "text/html": [
       "<div id=\"4c590fef-699f-4c9b-81b5-f47b36e7451b\" style=\"height: 525px; width: 100%;\" class=\"plotly-graph-div\"></div><script type=\"text/javascript\">require([\"plotly\"], function(Plotly) { window.PLOTLYENV=window.PLOTLYENV || {};window.PLOTLYENV.BASE_URL=\"https://plot.ly\";\n",
       "        Plotly.plot(\n",
       "            '4c590fef-699f-4c9b-81b5-f47b36e7451b',\n",
       "            [{\"x\": [0.5, 0.5, 3], \"mode\": \"text\", \"y\": [4, 1, 3], \"text\": [\"alpha\", \"Text H\", \"=\"]}],\n",
       "            {\"xaxis\": {\"showgrid\": false, \"showticklabels\": false, \"zeroline\": false, \"range\": [0, 5], \"autorange\": false}, \"title\": \"Start Title\", \"updatemenus\": [{\"buttons\": [{\"args\": [null], \"label\": \"Play\", \"method\": \"animate\"}], \"type\": \"buttons\"}], \"yaxis\": {\"showgrid\": false, \"showticklabels\": false, \"zeroline\": false, \"range\": [0, 5], \"autorange\": false}},\n",
       "            {\"linkText\": \"Export to plot.ly\", \"showLink\": true}\n",
       "        ).then(function () {return Plotly.addFrames('4c590fef-699f-4c9b-81b5-f47b36e7451b',[{\"data\": [{\"x\": [0.5, 0.5, 3], \"y\": [4, 1, 3]}]}, {\"data\": [{\"x\": [2, 2.5, 3], \"y\": [3, 3, 3]}], \"layout\": {\"title\": \"End Title\"}}]);}).then(function(){Plotly.animate('4c590fef-699f-4c9b-81b5-f47b36e7451b');})\n",
       "        });</script>"
      ],
      "text/vnd.plotly.v1+html": [
       "<div id=\"4c590fef-699f-4c9b-81b5-f47b36e7451b\" style=\"height: 525px; width: 100%;\" class=\"plotly-graph-div\"></div><script type=\"text/javascript\">require([\"plotly\"], function(Plotly) { window.PLOTLYENV=window.PLOTLYENV || {};window.PLOTLYENV.BASE_URL=\"https://plot.ly\";\n",
       "        Plotly.plot(\n",
       "            '4c590fef-699f-4c9b-81b5-f47b36e7451b',\n",
       "            [{\"x\": [0.5, 0.5, 3], \"mode\": \"text\", \"y\": [4, 1, 3], \"text\": [\"alpha\", \"Text H\", \"=\"]}],\n",
       "            {\"xaxis\": {\"showgrid\": false, \"showticklabels\": false, \"zeroline\": false, \"range\": [0, 5], \"autorange\": false}, \"title\": \"Start Title\", \"updatemenus\": [{\"buttons\": [{\"args\": [null], \"label\": \"Play\", \"method\": \"animate\"}], \"type\": \"buttons\"}], \"yaxis\": {\"showgrid\": false, \"showticklabels\": false, \"zeroline\": false, \"range\": [0, 5], \"autorange\": false}},\n",
       "            {\"linkText\": \"Export to plot.ly\", \"showLink\": true}\n",
       "        ).then(function () {return Plotly.addFrames('4c590fef-699f-4c9b-81b5-f47b36e7451b',[{\"data\": [{\"x\": [0.5, 0.5, 3], \"y\": [4, 1, 3]}]}, {\"data\": [{\"x\": [2, 2.5, 3], \"y\": [3, 3, 3]}], \"layout\": {\"title\": \"End Title\"}}]);}).then(function(){Plotly.animate('4c590fef-699f-4c9b-81b5-f47b36e7451b');})\n",
       "        });</script>"
      ]
     },
     "metadata": {},
     "output_type": "display_data"
    }
   ],
   "source": [
    "figure = {'data': [{'x': [0.5, 0.5, 3], 'y': [4, 1, 3], 'mode':'text', 'text':['alpha', 'Text H', '=']}],\n",
    "          \n",
    "          'layout': {\n",
    "                     'xaxis': {'range': [0, 5], 'autorange': False, 'showgrid':False, 'showticklabels':False,'zeroline':False},\n",
    "                     'yaxis': {'range': [0, 5], 'autorange': False, 'showgrid':False, 'showticklabels':False,'zeroline':False},\n",
    "                     'title': 'Start Title',\n",
    "                     'updatemenus': [{'type': 'buttons',\n",
    "                                      'buttons': [{'label': 'Play',\n",
    "                                                   'method': 'animate',\n",
    "                                                   'args': [None]}]}]\n",
    "                    },\n",
    "          \n",
    "          'frames': [\n",
    "                     {'data': [{'x': [0.5, 0.5, 3], 'y': [4, 1, 3]}]},              \n",
    "                     {'data': [{'x': [2, 2.5, 3], 'y': [3, 3, 3]}],'layout': {'title': 'End Title'}},            \n",
    "                    ]}\n",
    "\n",
    "iplot(figure)"
   ]
  },
  {
   "cell_type": "code",
   "execution_count": null,
   "metadata": {},
   "outputs": [],
   "source": []
  },
  {
   "cell_type": "code",
   "execution_count": null,
   "metadata": {
    "collapsed": true
   },
   "outputs": [],
   "source": []
  }
 ],
 "metadata": {
  "kernelspec": {
   "display_name": "Python [default]",
   "language": "python",
   "name": "python3"
  },
  "language_info": {
   "codemirror_mode": {
    "name": "ipython",
    "version": 3
   },
   "file_extension": ".py",
   "mimetype": "text/x-python",
   "name": "python",
   "nbconvert_exporter": "python",
   "pygments_lexer": "ipython3",
   "version": "3.5.4"
  },
  "toc": {
   "nav_menu": {},
   "number_sections": true,
   "sideBar": true,
   "skip_h1_title": false,
   "toc_cell": false,
   "toc_position": {},
   "toc_section_display": "block",
   "toc_window_display": false
  }
 },
 "nbformat": 4,
 "nbformat_minor": 2
}
