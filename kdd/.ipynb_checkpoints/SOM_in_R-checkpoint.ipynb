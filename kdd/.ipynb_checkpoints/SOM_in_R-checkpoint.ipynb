{
 "cells": [
  {
   "cell_type": "markdown",
   "metadata": {},
   "source": [
    "# Introduction to SOM in R\n",
    "This is an introduction to SOM. Original example courtesy of Shane Lynn.\n",
    "\n",
    "https://www.shanelynn.ie/self-organising-maps-for-customer-segmentation-using-r/\n",
    "\n",
    "https://github.com/shanealynn/Kohonen-Self-organising-maps-in-R/\n",
    "\n",
    "https://github.com/opetchey/RREEBES/wiki/Reading-data-and-code-from-an-online-github-repository"
   ]
  },
  {
   "cell_type": "code",
   "execution_count": 25,
   "metadata": {},
   "outputs": [],
   "source": [
    "require(kohonen)\n",
    "require(RCurl)"
   ]
  },
  {
   "cell_type": "code",
   "execution_count": 28,
   "metadata": {},
   "outputs": [],
   "source": [
    "# Load data from Lynn's Github page\n",
    "data_raw = read.csv(text=getURL(\"https://raw.githubusercontent.com/shanealynn/Kohonen-Self-organising-maps-in-R/master/census_data/AllThemesTablesED.csv\"))\n",
    "data_raw_safe = data_raw"
   ]
  },
  {
   "cell_type": "code",
   "execution_count": 30,
   "metadata": {},
   "outputs": [
    {
     "data": {
      "text/html": [
       "<table>\n",
       "<thead><tr><th scope=col>X.U.FEFF.GEOGID</th><th scope=col>GEOGTYPE</th><th scope=col>GEOGDESC</th><th scope=col>T1_1AGE0M</th><th scope=col>T1_1AGE1M</th><th scope=col>T1_1AGE2M</th><th scope=col>T1_1AGE3M</th><th scope=col>T1_1AGE4M</th><th scope=col>T1_1AGE5M</th><th scope=col>T1_1AGE6M</th><th scope=col>...</th><th scope=col>T15_1_GE4C</th><th scope=col>T15_2_Y</th><th scope=col>T15_2_N</th><th scope=col>T15_2_NS</th><th scope=col>T15_2_T</th><th scope=col>T15_3_B</th><th scope=col>T15_3_OTH</th><th scope=col>T15_3_N</th><th scope=col>T15_3_NS</th><th scope=col>T15_3_T</th></tr></thead>\n",
       "<tbody>\n",
       "\t<tr><td>E01001       </td><td>ED           </td><td>Carlow Urban </td><td>24           </td><td>26           </td><td>14           </td><td>15           </td><td>10           </td><td>15           </td><td>24           </td><td>...          </td><td>17           </td><td>1075         </td><td>615          </td><td>75           </td><td>1765         </td><td>925          </td><td>143          </td><td>621          </td><td>76           </td><td>1765         </td></tr>\n",
       "\t<tr><td>E01002       </td><td>ED           </td><td>Graigue Urban</td><td> 9           </td><td> 9           </td><td> 6           </td><td> 8           </td><td> 5           </td><td> 6           </td><td> 8           </td><td>...          </td><td> 0           </td><td> 319         </td><td>200          </td><td>24           </td><td> 543         </td><td>261          </td><td> 56          </td><td>209          </td><td>17           </td><td> 543         </td></tr>\n",
       "\t<tr><td>E01003       </td><td>ED           </td><td>Clonmore     </td><td> 2           </td><td> 3           </td><td> 3           </td><td> 6           </td><td> 8           </td><td> 2           </td><td> 1           </td><td>...          </td><td>17           </td><td> 122         </td><td> 60          </td><td> 6           </td><td> 188         </td><td> 75          </td><td> 37          </td><td> 68          </td><td> 8           </td><td> 188         </td></tr>\n",
       "\t<tr><td>E01004       </td><td>ED           </td><td>Hacketstown  </td><td> 7           </td><td> 9           </td><td>13           </td><td>15           </td><td> 7           </td><td>12           </td><td>11           </td><td>...          </td><td>12           </td><td> 242         </td><td>131          </td><td>10           </td><td> 383         </td><td>184          </td><td> 50          </td><td>141          </td><td> 8           </td><td> 383         </td></tr>\n",
       "\t<tr><td>E01005       </td><td>ED           </td><td>Haroldstown  </td><td> 2           </td><td> 0           </td><td> 0           </td><td> 2           </td><td> 1           </td><td> 4           </td><td> 2           </td><td>...          </td><td> 1           </td><td>  59         </td><td> 30          </td><td> 3           </td><td>  92         </td><td> 45          </td><td>  9          </td><td> 34          </td><td> 4           </td><td>  92         </td></tr>\n",
       "\t<tr><td>E01006       </td><td>ED           </td><td>Kineagh      </td><td> 1           </td><td> 0           </td><td> 1           </td><td> 1           </td><td> 0           </td><td> 1           </td><td> 1           </td><td>...          </td><td> 1           </td><td>  82         </td><td> 37          </td><td> 2           </td><td> 121         </td><td> 63          </td><td> 16          </td><td> 42          </td><td> 0           </td><td> 121         </td></tr>\n",
       "</tbody>\n",
       "</table>\n"
      ],
      "text/latex": [
       "\\begin{tabular}{r|lllllllllllllllllllllllllllllllllllllllllllllllllllllllllllllllllllllllllllllllllllllllllllllllllllllllllllllllllllllllllllllllllllllllllllllllllllllllllllllllllllllllllllllllllllllllllllllllllllllllllllllllllllllllllllllllllllllllllllllllllllllllllllllllllllllllllllllllllllllllllllllllllllllllllllllllllllllllllllllllllllllllllllllllllllllllllllllllllllllllllllllllllllllllllllllllllllllllllllllllllllllllllllllllllllllllllllllllllllllllllllllllllllllllllllllllllllllllllllllllllllllllllllllllllllllllllllllllllllllllllllllllllllllllllllllllllllllllllllllllllllllllllllllllllllllllllllllllllllllllllllllllllllllllllllllllllllllllllllllllllllllllllllllllllllllllllllllllllllllllllllllllllllllllllllllllllllllllllllllllllllllllllllllllllllllllllllllllllllllllllllllll}\n",
       " X.U.FEFF.GEOGID & GEOGTYPE & GEOGDESC & T1\\_1AGE0M & T1\\_1AGE1M & T1\\_1AGE2M & T1\\_1AGE3M & T1\\_1AGE4M & T1\\_1AGE5M & T1\\_1AGE6M & ... & T15\\_1\\_GE4C & T15\\_2\\_Y & T15\\_2\\_N & T15\\_2\\_NS & T15\\_2\\_T & T15\\_3\\_B & T15\\_3\\_OTH & T15\\_3\\_N & T15\\_3\\_NS & T15\\_3\\_T\\\\\n",
       "\\hline\n",
       "\t E01001        & ED            & Carlow Urban  & 24            & 26            & 14            & 15            & 10            & 15            & 24            & ...           & 17            & 1075          & 615           & 75            & 1765          & 925           & 143           & 621           & 76            & 1765         \\\\\n",
       "\t E01002        & ED            & Graigue Urban &  9            &  9            &  6            &  8            &  5            &  6            &  8            & ...           &  0            &  319          & 200           & 24            &  543          & 261           &  56           & 209           & 17            &  543         \\\\\n",
       "\t E01003        & ED            & Clonmore      &  2            &  3            &  3            &  6            &  8            &  2            &  1            & ...           & 17            &  122          &  60           &  6            &  188          &  75           &  37           &  68           &  8            &  188         \\\\\n",
       "\t E01004        & ED            & Hacketstown   &  7            &  9            & 13            & 15            &  7            & 12            & 11            & ...           & 12            &  242          & 131           & 10            &  383          & 184           &  50           & 141           &  8            &  383         \\\\\n",
       "\t E01005        & ED            & Haroldstown   &  2            &  0            &  0            &  2            &  1            &  4            &  2            & ...           &  1            &   59          &  30           &  3            &   92          &  45           &   9           &  34           &  4            &   92         \\\\\n",
       "\t E01006        & ED            & Kineagh       &  1            &  0            &  1            &  1            &  0            &  1            &  1            & ...           &  1            &   82          &  37           &  2            &  121          &  63           &  16           &  42           &  0            &  121         \\\\\n",
       "\\end{tabular}\n"
      ],
      "text/markdown": [
       "\n",
       "X.U.FEFF.GEOGID | GEOGTYPE | GEOGDESC | T1_1AGE0M | T1_1AGE1M | T1_1AGE2M | T1_1AGE3M | T1_1AGE4M | T1_1AGE5M | T1_1AGE6M | ... | T15_1_GE4C | T15_2_Y | T15_2_N | T15_2_NS | T15_2_T | T15_3_B | T15_3_OTH | T15_3_N | T15_3_NS | T15_3_T | \n",
       "|---|---|---|---|---|---|\n",
       "| E01001        | ED            | Carlow Urban  | 24            | 26            | 14            | 15            | 10            | 15            | 24            | ...           | 17            | 1075          | 615           | 75            | 1765          | 925           | 143           | 621           | 76            | 1765          | \n",
       "| E01002        | ED            | Graigue Urban |  9            |  9            |  6            |  8            |  5            |  6            |  8            | ...           |  0            |  319          | 200           | 24            |  543          | 261           |  56           | 209           | 17            |  543          | \n",
       "| E01003        | ED            | Clonmore      |  2            |  3            |  3            |  6            |  8            |  2            |  1            | ...           | 17            |  122          |  60           |  6            |  188          |  75           |  37           |  68           |  8            |  188          | \n",
       "| E01004        | ED            | Hacketstown   |  7            |  9            | 13            | 15            |  7            | 12            | 11            | ...           | 12            |  242          | 131           | 10            |  383          | 184           |  50           | 141           |  8            |  383          | \n",
       "| E01005        | ED            | Haroldstown   |  2            |  0            |  0            |  2            |  1            |  4            |  2            | ...           |  1            |   59          |  30           |  3            |   92          |  45           |   9           |  34           |  4            |   92          | \n",
       "| E01006        | ED            | Kineagh       |  1            |  0            |  1            |  1            |  0            |  1            |  1            | ...           |  1            |   82          |  37           |  2            |  121          |  63           |  16           |  42           |  0            |  121          | \n",
       "\n",
       "\n"
      ],
      "text/plain": [
       "  X.U.FEFF.GEOGID GEOGTYPE GEOGDESC      T1_1AGE0M T1_1AGE1M T1_1AGE2M\n",
       "1 E01001          ED       Carlow Urban  24        26        14       \n",
       "2 E01002          ED       Graigue Urban  9         9         6       \n",
       "3 E01003          ED       Clonmore       2         3         3       \n",
       "4 E01004          ED       Hacketstown    7         9        13       \n",
       "5 E01005          ED       Haroldstown    2         0         0       \n",
       "6 E01006          ED       Kineagh        1         0         1       \n",
       "  T1_1AGE3M T1_1AGE4M T1_1AGE5M T1_1AGE6M ... T15_1_GE4C T15_2_Y T15_2_N\n",
       "1 15        10        15        24        ... 17         1075    615    \n",
       "2  8         5         6         8        ...  0          319    200    \n",
       "3  6         8         2         1        ... 17          122     60    \n",
       "4 15         7        12        11        ... 12          242    131    \n",
       "5  2         1         4         2        ...  1           59     30    \n",
       "6  1         0         1         1        ...  1           82     37    \n",
       "  T15_2_NS T15_2_T T15_3_B T15_3_OTH T15_3_N T15_3_NS T15_3_T\n",
       "1 75       1765    925     143       621     76       1765   \n",
       "2 24        543    261      56       209     17        543   \n",
       "3  6        188     75      37        68      8        188   \n",
       "4 10        383    184      50       141      8        383   \n",
       "5  3         92     45       9        34      4         92   \n",
       "6  2        121     63      16        42      0        121   "
      ]
     },
     "metadata": {},
     "output_type": "display_data"
    }
   ],
   "source": [
    "head(data_raw)"
   ]
  },
  {
   "cell_type": "code",
   "execution_count": null,
   "metadata": {},
   "outputs": [],
   "source": [
    "ireland_map <- readOGR('./boundary_files/Census2011_Small_Areas_generalised20m.shp', encoding = 'utf8')\n",
    "#Note that the map polygons and the census data are not in the same order - rearrangement:\n",
    "data_raw <- data_raw[match(ireland_map$SMALL_AREA, data_raw$GEOGDESC),]"
   ]
  },
  {
   "cell_type": "code",
   "execution_count": null,
   "metadata": {},
   "outputs": [],
   "source": []
  },
  {
   "cell_type": "code",
   "execution_count": null,
   "metadata": {},
   "outputs": [],
   "source": []
  },
  {
   "cell_type": "code",
   "execution_count": null,
   "metadata": {},
   "outputs": [],
   "source": []
  },
  {
   "cell_type": "code",
   "execution_count": null,
   "metadata": {},
   "outputs": [],
   "source": []
  }
 ],
 "metadata": {
  "kernelspec": {
   "display_name": "R [conda env:mro_env]",
   "language": "R",
   "name": "conda-env-mro_env-r"
  },
  "language_info": {
   "codemirror_mode": "r",
   "file_extension": ".r",
   "mimetype": "text/x-r-source",
   "name": "R",
   "pygments_lexer": "r",
   "version": "3.4.3"
  },
  "toc": {
   "nav_menu": {},
   "number_sections": true,
   "sideBar": true,
   "skip_h1_title": false,
   "toc_cell": false,
   "toc_position": {},
   "toc_section_display": "block",
   "toc_window_display": false
  }
 },
 "nbformat": 4,
 "nbformat_minor": 2
}
