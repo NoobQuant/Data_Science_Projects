{
 "cells": [
  {
   "cell_type": "markdown",
   "metadata": {},
   "source": [
    "# SOM example for video\n",
    "\n"
   ]
  },
  {
   "cell_type": "code",
   "execution_count": 31,
   "metadata": {},
   "outputs": [],
   "source": [
    "require(kohonen)"
   ]
  },
  {
   "cell_type": "code",
   "execution_count": 32,
   "metadata": {},
   "outputs": [
    {
     "name": "stdout",
     "output_type": "stream",
     "text": [
      "[1] \"Frame has 100 observations\"\n"
     ]
    },
    {
     "data": {
      "text/html": [
       "<table>\n",
       "<thead><tr><th scope=col>x</th><th scope=col>z</th><th scope=col>y</th><th scope=col>class</th><th scope=col>id</th></tr></thead>\n",
       "<tbody>\n",
       "\t<tr><td>0.878749400</td><td>-1.5368920 </td><td>-0.9525772 </td><td>1          </td><td>0          </td></tr>\n",
       "\t<tr><td>0.569173625</td><td>-1.2066344 </td><td>-0.4724550 </td><td>1          </td><td>1          </td></tr>\n",
       "\t<tr><td>0.001386812</td><td> 0.1950917 </td><td>-0.8623742 </td><td>0          </td><td>2          </td></tr>\n",
       "\t<tr><td>0.162436949</td><td>-1.0524443 </td><td>-0.3823317 </td><td>1          </td><td>3          </td></tr>\n",
       "\t<tr><td>0.895546216</td><td>-1.4544356 </td><td>-0.2996867 </td><td>1          </td><td>4          </td></tr>\n",
       "\t<tr><td>0.303015058</td><td> 0.2638460 </td><td>-1.0238812 </td><td>0          </td><td>5          </td></tr>\n",
       "</tbody>\n",
       "</table>\n"
      ],
      "text/latex": [
       "\\begin{tabular}{r|lllll}\n",
       " x & z & y & class & id\\\\\n",
       "\\hline\n",
       "\t 0.878749400 & -1.5368920  & -0.9525772  & 1           & 0          \\\\\n",
       "\t 0.569173625 & -1.2066344  & -0.4724550  & 1           & 1          \\\\\n",
       "\t 0.001386812 &  0.1950917  & -0.8623742  & 0           & 2          \\\\\n",
       "\t 0.162436949 & -1.0524443  & -0.3823317  & 1           & 3          \\\\\n",
       "\t 0.895546216 & -1.4544356  & -0.2996867  & 1           & 4          \\\\\n",
       "\t 0.303015058 &  0.2638460  & -1.0238812  & 0           & 5          \\\\\n",
       "\\end{tabular}\n"
      ],
      "text/markdown": [
       "\n",
       "x | z | y | class | id | \n",
       "|---|---|---|---|---|---|\n",
       "| 0.878749400 | -1.5368920  | -0.9525772  | 1           | 0           | \n",
       "| 0.569173625 | -1.2066344  | -0.4724550  | 1           | 1           | \n",
       "| 0.001386812 |  0.1950917  | -0.8623742  | 0           | 2           | \n",
       "| 0.162436949 | -1.0524443  | -0.3823317  | 1           | 3           | \n",
       "| 0.895546216 | -1.4544356  | -0.2996867  | 1           | 4           | \n",
       "| 0.303015058 |  0.2638460  | -1.0238812  | 0           | 5           | \n",
       "\n",
       "\n"
      ],
      "text/plain": [
       "  x           z          y          class id\n",
       "1 0.878749400 -1.5368920 -0.9525772 1     0 \n",
       "2 0.569173625 -1.2066344 -0.4724550 1     1 \n",
       "3 0.001386812  0.1950917 -0.8623742 0     2 \n",
       "4 0.162436949 -1.0524443 -0.3823317 1     3 \n",
       "5 0.895546216 -1.4544356 -0.2996867 1     4 \n",
       "6 0.303015058  0.2638460 -1.0238812 0     5 "
      ]
     },
     "metadata": {},
     "output_type": "display_data"
    }
   ],
   "source": [
    "# Get data (fairly small data set)\n",
    "data_safe = read.csv(\"original_data.csv\",header=TRUE)\n",
    "data = cbind(data_safe)\n",
    "print(paste0(\"Frame has \",dim(data)[1],\" observations\"))\n",
    "head(data)"
   ]
  },
  {
   "cell_type": "code",
   "execution_count": 33,
   "metadata": {},
   "outputs": [
    {
     "data": {
      "text/html": [
       "<table>\n",
       "<thead><tr><th scope=col>x</th><th scope=col>z</th><th scope=col>y</th></tr></thead>\n",
       "<tbody>\n",
       "\t<tr><td>0.878749400</td><td>-1.5368920 </td><td>-0.9525772 </td></tr>\n",
       "\t<tr><td>0.569173625</td><td>-1.2066344 </td><td>-0.4724550 </td></tr>\n",
       "\t<tr><td>0.001386812</td><td> 0.1950917 </td><td>-0.8623742 </td></tr>\n",
       "\t<tr><td>0.162436949</td><td>-1.0524443 </td><td>-0.3823317 </td></tr>\n",
       "\t<tr><td>0.895546216</td><td>-1.4544356 </td><td>-0.2996867 </td></tr>\n",
       "\t<tr><td>0.303015058</td><td> 0.2638460 </td><td>-1.0238812 </td></tr>\n",
       "</tbody>\n",
       "</table>\n"
      ],
      "text/latex": [
       "\\begin{tabular}{lll}\n",
       " x & z & y\\\\\n",
       "\\hline\n",
       "\t 0.878749400 & -1.5368920  & -0.9525772 \\\\\n",
       "\t 0.569173625 & -1.2066344  & -0.4724550 \\\\\n",
       "\t 0.001386812 &  0.1950917  & -0.8623742 \\\\\n",
       "\t 0.162436949 & -1.0524443  & -0.3823317 \\\\\n",
       "\t 0.895546216 & -1.4544356  & -0.2996867 \\\\\n",
       "\t 0.303015058 &  0.2638460  & -1.0238812 \\\\\n",
       "\\end{tabular}\n"
      ],
      "text/markdown": [
       "\n",
       "x | z | y | \n",
       "|---|---|---|---|---|---|\n",
       "| 0.878749400 | -1.5368920  | -0.9525772  | \n",
       "| 0.569173625 | -1.2066344  | -0.4724550  | \n",
       "| 0.001386812 |  0.1950917  | -0.8623742  | \n",
       "| 0.162436949 | -1.0524443  | -0.3823317  | \n",
       "| 0.895546216 | -1.4544356  | -0.2996867  | \n",
       "| 0.303015058 |  0.2638460  | -1.0238812  | \n",
       "\n",
       "\n"
      ],
      "text/plain": [
       "     x           z          y         \n",
       "[1,] 0.878749400 -1.5368920 -0.9525772\n",
       "[2,] 0.569173625 -1.2066344 -0.4724550\n",
       "[3,] 0.001386812  0.1950917 -0.8623742\n",
       "[4,] 0.162436949 -1.0524443 -0.3823317\n",
       "[5,] 0.895546216 -1.4544356 -0.2996867\n",
       "[6,] 0.303015058  0.2638460 -1.0238812"
      ]
     },
     "metadata": {},
     "output_type": "display_data"
    }
   ],
   "source": [
    "# Get all axogenous variables\n",
    "X = as.matrix(data[,-4:-5])\n",
    "head(X)"
   ]
  },
  {
   "cell_type": "code",
   "execution_count": 35,
   "metadata": {},
   "outputs": [
    {
     "name": "stdout",
     "output_type": "stream",
     "text": [
      "[1] 0.8267946\n",
      "[1] 1.151646\n"
     ]
    },
    {
     "data": {
      "image/png": "[encoded data removed]",
      "text/plain": [
       "plot without title"
      ]
     },
     "metadata": {},
     "output_type": "display_data"
    }
   ],
   "source": [
    "iters = 100\n",
    "g = somgrid(xdim = 3, ydim = 3, topo = \"rectangular\")\n",
    "codes = vector(\"list\",iters)\n",
    "for (l in 1:iters){\n",
    "    set.seed(222)\n",
    "    map = som(X,grid=g,alpha=c(0.05,0.01), radius=1, rlen = l)\n",
    "    codes[[l]] = as.data.frame(getCodes(map))\n",
    "}\n",
    "\n",
    "iterno = 10; nodeno = 6\n",
    "print(codes[[1]]$x[nodeno])\n",
    "print(codes[[iterno]]$x[nodeno])\n",
    "\n",
    "val = c()\n",
    "for (i in 1:iters){\n",
    "    val = c(val, codes[[i]]$x[nodeno])\n",
    "}\n",
    "\n",
    "plot(val)"
   ]
  },
  {
   "cell_type": "code",
   "execution_count": 36,
   "metadata": {},
   "outputs": [],
   "source": [
    "ff = data.frame()\n",
    "for(i in 1:length(codes)){\n",
    "    gg = codes[[i]]\n",
    "    gg[['id']] = paste0(\"point_\",0:(nrow(gg) - 1))\n",
    "    gg[['iter']] = i\n",
    "    ff = rbind(ff, gg)\n",
    "}\n",
    "write.csv(ff, file = \"codes.csv\", row.names=F)    \n"
   ]
  },
  {
   "cell_type": "code",
   "execution_count": null,
   "metadata": {},
   "outputs": [],
   "source": []
  }
 ],
 "metadata": {
  "kernelspec": {
   "display_name": "R [conda env:mro_env]",
   "language": "R",
   "name": "conda-env-mro_env-r"
  },
  "language_info": {
   "codemirror_mode": "r",
   "file_extension": ".r",
   "mimetype": "text/x-r-source",
   "name": "R",
   "pygments_lexer": "r",
   "version": "3.4.3"
  },
  "toc": {
   "nav_menu": {},
   "number_sections": true,
   "sideBar": true,
   "skip_h1_title": false,
   "toc_cell": false,
   "toc_position": {},
   "toc_section_display": "block",
   "toc_window_display": false
  }
 },
 "nbformat": 4,
 "nbformat_minor": 2
}
