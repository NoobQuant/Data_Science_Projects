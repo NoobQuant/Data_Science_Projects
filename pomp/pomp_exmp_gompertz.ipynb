{
 "cells": [
  {
   "cell_type": "markdown",
   "metadata": {},
   "source": [
    "# pomp example: Simulating  the Gompertz model\n",
    "Example how to use R library *pomp* to simulate from the Gompertz model.\n",
    "\n",
    "Sources:\n",
    "- <a href=\"https://kingaa.github.io/pomp/vignettes/pompjss.pdf\">This</a> paper section 4.1.\n",
    "- https://kingaa.github.io/pomp/vignettes/R_v_C.html\n",
    "\n",
    "**Gompertz model**\n",
    "\n",
    "\n",
    "\\begin{align*}\n",
    "& X_{t+\\Delta t} = K^{1-S} X_t^S \\epsilon_t \\label{eq1}\\tag{1}\\\\[4pt]\n",
    "& S = e^{-r \\Delta t} \\label{eq2}\\tag{3} \\\\[4pt]\n",
    "& \\epsilon_t \\sim \\text{LogNormal}(0, \\sigma), \\ \\ i.i.d \\label{eq3}\\tag{3} \\\\[4pt]\n",
    "& Y_t \\sim \\text{LogNormal}(log X_t, \\tau) \\label{eq4}\\tag{4}\n",
    "\\end{align*}\n",
    "\n",
    "where\n",
    "\n",
    "\\begin{align*}\n",
    "& X_{t} \\text{ : Population density at time $t$ (latent variable). } \\\\[4pt]\n",
    "& Y_{t} \\text{ : Observed population density at time $t$ ($X_t$ measured with error). } \\\\[4pt]\n",
    "& K \\text{ : Carrying capacity of population.} \\\\[4pt]\n",
    "\\end{align*}\n",
    "\n",
    "Notice that\n",
    "\n",
    "\\begin{align*}\n",
    "& log \\epsilon_t \\equiv log \\ \\epsilon_t \\sim \\text{Normal}(0, \\sigma), \\ \\ i.i.d \\label{eq5}\\tag{5} \\\\[4pt]\n",
    "\\end{align*}"
   ]
  },
  {
   "cell_type": "code",
   "execution_count": 1,
   "metadata": {},
   "outputs": [],
   "source": [
    "#install.packages(\"pomp\")"
   ]
  },
  {
   "cell_type": "code",
   "execution_count": 1,
   "metadata": {},
   "outputs": [
    {
     "name": "stderr",
     "output_type": "stream",
     "text": [
      "Loading required package: pomp\n",
      "Welcome to pomp version 2!\n",
      "For information on upgrading your pomp version < 2 code, see the\n",
      "'pomp version 2 upgrade guide' at https://kingaa.github.io/pomp/.\n",
      "Loading required package: ggplot2\n",
      "Registered S3 methods overwritten by 'ggplot2':\n",
      "  method         from \n",
      "  [.quosures     rlang\n",
      "  c.quosures     rlang\n",
      "  print.quosures rlang\n",
      "Loading required package: magrittr\n",
      "Loading required package: repr\n"
     ]
    },
    {
     "data": {
      "text/plain": [
       "R version 3.6.1 (2019-07-05)\n",
       "Platform: x86_64-w64-mingw32/x64 (64-bit)\n",
       "Running under: Windows 10 x64 (build 17763)\n",
       "\n",
       "Matrix products: default\n",
       "\n",
       "locale:\n",
       "[1] LC_COLLATE=Finnish_Finland.1252  LC_CTYPE=Finnish_Finland.1252   \n",
       "[3] LC_MONETARY=Finnish_Finland.1252 LC_NUMERIC=C                    \n",
       "[5] LC_TIME=Finnish_Finland.1252    \n",
       "\n",
       "attached base packages:\n",
       "[1] stats     graphics  grDevices utils     datasets  methods   base     \n",
       "\n",
       "other attached packages:\n",
       "[1] repr_0.19.2   magrittr_1.5  ggplot2_3.1.1 pomp_2.2     \n",
       "\n",
       "loaded via a namespace (and not attached):\n",
       " [1] Rcpp_1.0.2       compiler_3.6.1   pillar_1.3.1     plyr_1.8.4      \n",
       " [5] base64enc_0.1-3  tools_3.6.1      digest_0.6.20    uuid_0.1-2      \n",
       " [9] jsonlite_1.6     evaluate_0.14    tibble_2.1.1     gtable_0.3.0    \n",
       "[13] lattice_0.20-38  pkgconfig_2.0.2  rlang_0.4.0      IRdisplay_0.7.0 \n",
       "[17] IRkernel_0.8.15  mvtnorm_1.0-11   coda_0.19-3      withr_2.1.2     \n",
       "[21] stringr_1.4.0    dplyr_0.8.0.1    grid_3.6.1       tidyselect_0.2.5\n",
       "[25] deSolve_1.24     glue_1.3.1       R6_2.4.0         pbdZMQ_0.3-3    \n",
       "[29] purrr_0.3.2      reshape2_1.4.3   scales_1.0.0     htmltools_0.3.6 \n",
       "[33] assertthat_0.2.1 colorspace_1.4-1 stringi_1.4.3    lazyeval_0.2.2  \n",
       "[37] munsell_0.5.0    crayon_1.3.4    "
      ]
     },
     "metadata": {},
     "output_type": "display_data"
    }
   ],
   "source": [
    "require(pomp)\n",
    "require(ggplot2)\n",
    "require(magrittr)\n",
    "require(repr)\n",
    "options(repr.plot.width=10, repr.plot.height=4)\n",
    "sessionInfo()"
   ]
  },
  {
   "cell_type": "markdown",
   "metadata": {},
   "source": [
    "### Function for method *rprocess*\n",
    "Method *rprocess* simulates $f_{X_n | X_{n-1}} (x_n | x_{n-1};\\theta)$."
   ]
  },
  {
   "cell_type": "code",
   "execution_count": 2,
   "metadata": {},
   "outputs": [],
   "source": [
    "rprocess_fun_R = function(X,r,K,sigma,...,delta.t) {\n",
    "  eps    = exp(rnorm(n=1,mean=0,sd=sigma)) # eq 5, needs to be named \"eps\" although is logeps\n",
    "  S      = exp(-r*delta.t) # eq 2; delta.t cannot be renamed!\n",
    "  c(X    = K^(1-S)*X^S*eps ) # eq 1; needs to be give as vector\n",
    "}\n",
    "\n",
    "rprocess_fun_C = Csnippet(\"\n",
    "    double S = exp(-r*dt);\n",
    "    double logeps = (sigma > 0.0) ? rnorm(0,sigma) : 0.0;\n",
    "    X = pow(K,(1-S))*pow(X,S)*exp(logeps);\"\n",
    ")"
   ]
  },
  {
   "cell_type": "markdown",
   "metadata": {},
   "source": [
    "### Function for method *rmeasure*\n",
    "Method *rmeasure* simulates $f_{Y_n | X_n} (y_n | x_n;\\theta)$."
   ]
  },
  {
   "cell_type": "code",
   "execution_count": 3,
   "metadata": {},
   "outputs": [],
   "source": [
    "rmeasure_fun_R = function (X, tau, ...) {\n",
    "    c( Y = rlnorm(n=1,meanlog=log(X),sdlog=tau) ) # eq4; needs to be give as vector\n",
    "}\n",
    "\n",
    "rmeasure_fun_C = Csnippet(\"\n",
    "    Y = rlnorm(log(X),tau);\"\n",
    ")"
   ]
  },
  {
   "cell_type": "markdown",
   "metadata": {},
   "source": [
    "### Function for method *dmeasure*\n",
    "Method *dmeasure* evalueates $f_{Y_n | X_n} (y_n | x_n;\\theta)$."
   ]
  },
  {
   "cell_type": "code",
   "execution_count": 4,
   "metadata": {},
   "outputs": [],
   "source": [
    "dmeasure_fun_R = function (tau, X, Y, ..., log) {\n",
    "    dlnorm(x=Y, meanlog=log(X), sdlog=tau, log=log)\n",
    "}\n",
    "\n",
    "dmeasure_fun_C = Csnippet(\"\n",
    "    lik = dlnorm(Y,log(X),tau,give_log);\"\n",
    ")"
   ]
  },
  {
   "cell_type": "markdown",
   "metadata": {},
   "source": [
    "### Parameters"
   ]
  },
  {
   "cell_type": "code",
   "execution_count": 5,
   "metadata": {},
   "outputs": [],
   "source": [
    "params = c(K=1, r=0.1, sigma=0.1, tau=0.1, X_0=1)"
   ]
  },
  {
   "cell_type": "markdown",
   "metadata": {},
   "source": [
    "### Call *simulate* using R functions"
   ]
  },
  {
   "cell_type": "code",
   "execution_count": 6,
   "metadata": {},
   "outputs": [
    {
     "data": {
      "image/png": "[encoded data removed]",
      "text/plain": [
       "plot without title"
      ]
     },
     "metadata": {},
     "output_type": "display_data"
    }
   ],
   "source": [
    "gompertz_R = \n",
    "    simulate(\n",
    "        times = 1:100,\n",
    "        t0 = 0,\n",
    "        params = params,\n",
    "        rprocess = discrete_time(\n",
    "            rprocess_fun_R,\n",
    "            delta.t=1 # cannot be renamed!\n",
    "        ),\n",
    "        rmeasure = rmeasure_fun_R,\n",
    "        dmeasure = dmeasure_fun_R\n",
    "    )\n",
    "\n",
    "sim_data = as.data.frame(gompertz_R)\n",
    "sim_data %>%\n",
    "  melt(id=\"time\") %>%\n",
    "  ggplot(aes(x=time,y=value,color=variable))+\n",
    "  geom_line()+\n",
    "  labs(y=\"X, Y\")+\n",
    "  theme_bw()"
   ]
  },
  {
   "cell_type": "markdown",
   "metadata": {},
   "source": [
    "### Call *simulate* using C functions"
   ]
  },
  {
   "cell_type": "code",
   "execution_count": 7,
   "metadata": {},
   "outputs": [
    {
     "data": {
      "image/png": "[encoded data removed]",
      "text/plain": [
       "plot without title"
      ]
     },
     "metadata": {},
     "output_type": "display_data"
    }
   ],
   "source": [
    "gompertz_C = \n",
    "    simulate(\n",
    "        times = 1:100,\n",
    "        t0 = 0,\n",
    "        params = params,\n",
    "        rprocess = discrete_time(\n",
    "            rprocess_fun_C,\n",
    "            delta.t=1 # cannot be renamed!\n",
    "        ),\n",
    "        rmeasure = rmeasure_fun_C,\n",
    "        dmeasure = dmeasure_fun_C,\n",
    "        paramnames=c(\"r\",\"K\",\"sigma\",\"tau\"),\n",
    "        obsnames=\"Y\",\n",
    "        statenames=\"X\"        \n",
    "    )\n",
    "\n",
    "sim_data = as.data.frame(gompertz_C)\n",
    "sim_data %>%\n",
    "  melt(id=\"time\") %>%\n",
    "  ggplot(aes(x=time,y=value,color=variable))+\n",
    "  geom_line()+\n",
    "  labs(y=\"X, Y\")+\n",
    "  theme_bw()"
   ]
  }
 ],
 "metadata": {
  "kernelspec": {
   "display_name": "R",
   "language": "R",
   "name": "ir"
  },
  "language_info": {
   "codemirror_mode": "r",
   "file_extension": ".r",
   "mimetype": "text/x-r-source",
   "name": "R",
   "pygments_lexer": "r",
   "version": "3.6.1"
  }
 },
 "nbformat": 4,
 "nbformat_minor": 2
}
